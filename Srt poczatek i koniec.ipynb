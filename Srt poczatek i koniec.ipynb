{
 "cells": [
  {
   "cell_type": "code",
   "execution_count": null,
   "id": "cfd5c851",
   "metadata": {},
   "outputs": [],
   "source": [
    "w1 = 'BigDataS'\n",
    "w2 = 'M.Leranning'\n",
    "\n",
    "p= w1[:1], w2[:1]\n",
    "\n",
    "k= w1[-1:], w2[-1:]\n",
    "\n",
    "s= int(len(w1)/2)\n",
    "\n",
    "s\n",
    "\n"
   ]
  }
 ],
 "metadata": {
  "kernelspec": {
   "display_name": "Python 3",
   "language": "python",
   "name": "python3"
  },
  "language_info": {
   "codemirror_mode": {
    "name": "ipython",
    "version": 3
   },
   "file_extension": ".py",
   "mimetype": "text/x-python",
   "name": "python",
   "nbconvert_exporter": "python",
   "pygments_lexer": "ipython3",
   "version": "3.8.8"
  }
 },
 "nbformat": 4,
 "nbformat_minor": 5
}
