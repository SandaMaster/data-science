{
 "cells": [
  {
   "cell_type": "code",
   "execution_count": 29,
   "id": "7d6711bd",
   "metadata": {},
   "outputs": [
    {
     "name": "stdout",
     "output_type": "stream",
     "text": [
      "podaj 1 liczbe :3\n",
      "podaj 2 liczbe :4\n",
      "0.75 3.0 0.0\n"
     ]
    }
   ],
   "source": [
    "a = float(input('podaj 1 liczbe :'))\n",
    "b = int(input('podaj 2 liczbe :'))\n",
    "\n",
    "c = a/b\n",
    "d = a%b\n",
    "e = a//b\n",
    "\n",
    "print(c,d,e)"
   ]
  },
  {
   "cell_type": "code",
   "execution_count": 36,
   "id": "60bf7eb9",
   "metadata": {},
   "outputs": [
    {
     "name": "stdout",
     "output_type": "stream",
     "text": [
      "podaj 1 liczbe :2\n",
      "podaj 2 liczbe :5\n",
      "Żaden warunek nie jest spełniony\n"
     ]
    }
   ],
   "source": [
    "\n",
    "x = int(input('podaj 1 liczbe :'))\n",
    "y = int(input('podaj 2 liczbe :'))\n",
    "\n",
    "if x > 3 or y%2==0:\n",
    "    print('Co najmniej jeden z warunków jest spełniony')\n",
    "    \n",
    "if x<= 3 and y%2!=0:\n",
    "    print('Żaden warunek nie jest spełniony')\n",
    "\n"
   ]
  },
  {
   "cell_type": "code",
   "execution_count": 47,
   "id": "16b0da7b",
   "metadata": {},
   "outputs": [
    {
     "name": "stdout",
     "output_type": "stream",
     "text": [
      "True\n"
     ]
    }
   ],
   "source": [
    "x = 6\n",
    "\n",
    "print (not(x > 4 and x < 3))\n",
    "    "
   ]
  },
  {
   "cell_type": "code",
   "execution_count": 72,
   "id": "301cd4c7",
   "metadata": {},
   "outputs": [
    {
     "ename": "SyntaxError",
     "evalue": "unexpected EOF while parsing (<ipython-input-72-c241466d1008>, line 14)",
     "output_type": "error",
     "traceback": [
      "\u001b[1;36m  File \u001b[1;32m\"<ipython-input-72-c241466d1008>\"\u001b[1;36m, line \u001b[1;32m14\u001b[0m\n\u001b[1;33m    \u001b[0m\n\u001b[1;37m    ^\u001b[0m\n\u001b[1;31mSyntaxError\u001b[0m\u001b[1;31m:\u001b[0m unexpected EOF while parsing\n"
     ]
    }
   ],
   "source": [
    "\n",
    "L =['Rozalia','Partyk','Marcin','Magdalena','Maciek','Kasia','Karol','Karol','Jola','Jacek','Artur','Piotr','Grzesiek']\n",
    "L.sort()\n",
    "L\n",
    "\n",
    "\n",
    "\n",
    "for i in L:\n",
    "    if 'a' in L:\n",
    "        \n",
    "        print('kobieta',i)\n",
    "   \n",
    "    else:print('mężczyzna',i\n",
    "    \n",
    "\n"
   ]
  },
  {
   "cell_type": "code",
   "execution_count": 77,
   "id": "56d8cc67",
   "metadata": {},
   "outputs": [
    {
     "name": "stdout",
     "output_type": "stream",
     "text": [
      "0\n",
      "1\n",
      "2\n",
      "3\n",
      "4\n",
      "Gotowe\n"
     ]
    }
   ],
   "source": [
    "\n",
    "\n",
    "for i in range (5):\n",
    "    print(i)\n",
    "else:\n",
    "    print('Gotowe')\n",
    "    "
   ]
  },
  {
   "cell_type": "code",
   "execution_count": null,
   "id": "601f917e",
   "metadata": {},
   "outputs": [],
   "source": [
    "Napisz program, który policzy największy wspólny dzielnik dwóch liczb podanych przez użytkownika\n",
    "W tym celu użyj operatora % oraz pętli for\n",
    "\n",
    "\n"
   ]
  }
 ],
 "metadata": {
  "kernelspec": {
   "display_name": "Python 3",
   "language": "python",
   "name": "python3"
  },
  "language_info": {
   "codemirror_mode": {
    "name": "ipython",
    "version": 3
   },
   "file_extension": ".py",
   "mimetype": "text/x-python",
   "name": "python",
   "nbconvert_exporter": "python",
   "pygments_lexer": "ipython3",
   "version": "3.8.8"
  }
 },
 "nbformat": 4,
 "nbformat_minor": 5
}
