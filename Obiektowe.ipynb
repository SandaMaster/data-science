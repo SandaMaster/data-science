{
 "cells": [
  {
   "cell_type": "code",
   "execution_count": 2,
   "id": "4193b571",
   "metadata": {},
   "outputs": [
    {
     "data": {
      "text/plain": [
       "140710218704784"
      ]
     },
     "execution_count": 2,
     "metadata": {},
     "output_type": "execute_result"
    }
   ],
   "source": [
    "x = 4\n",
    "id(x)"
   ]
  },
  {
   "cell_type": "code",
   "execution_count": 3,
   "id": "0e59ff0d",
   "metadata": {},
   "outputs": [
    {
     "data": {
      "text/plain": [
       "2053592254000"
      ]
     },
     "execution_count": 3,
     "metadata": {},
     "output_type": "execute_result"
    }
   ],
   "source": [
    "x = 'ads'\n",
    "id(x)"
   ]
  },
  {
   "cell_type": "code",
   "execution_count": 6,
   "id": "62fea3dd",
   "metadata": {},
   "outputs": [
    {
     "data": {
      "text/plain": [
       "2053591997376"
      ]
     },
     "execution_count": 6,
     "metadata": {},
     "output_type": "execute_result"
    }
   ],
   "source": [
    "l =  [1,2,3,4]\n",
    "id(l)"
   ]
  }
 ],
 "metadata": {
  "kernelspec": {
   "display_name": "Python 3",
   "language": "python",
   "name": "python3"
  },
  "language_info": {
   "codemirror_mode": {
    "name": "ipython",
    "version": 3
   },
   "file_extension": ".py",
   "mimetype": "text/x-python",
   "name": "python",
   "nbconvert_exporter": "python",
   "pygments_lexer": "ipython3",
   "version": "3.8.8"
  }
 },
 "nbformat": 4,
 "nbformat_minor": 5
}
