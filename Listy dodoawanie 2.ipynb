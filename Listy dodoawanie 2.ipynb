{
 "cells": [
  {
   "cell_type": "code",
   "execution_count": 4,
   "id": "1b2611a5",
   "metadata": {},
   "outputs": [
    {
     "name": "stdout",
     "output_type": "stream",
     "text": [
      "['u', 'p', 'a']\n"
     ]
    }
   ],
   "source": [
    "lista = [1,2,3, 'abc',11,'d','u','p','a']\n",
    "print(lista[6:])"
   ]
  },
  {
   "cell_type": "code",
   "execution_count": 16,
   "id": "466ea35f",
   "metadata": {},
   "outputs": [
    {
     "name": "stdout",
     "output_type": "stream",
     "text": [
      "2\n"
     ]
    }
   ],
   "source": [
    "slownik = {'x':1, 'y':2}\n",
    "print(slownik['y'])\n"
   ]
  },
  {
   "cell_type": "code",
   "execution_count": 17,
   "id": "bca20d49",
   "metadata": {},
   "outputs": [],
   "source": [
    "lista1 = lista + [11,2,3]"
   ]
  },
  {
   "cell_type": "code",
   "execution_count": 18,
   "id": "949852c1",
   "metadata": {},
   "outputs": [
    {
     "data": {
      "text/plain": [
       "[1, 2, 3, 'abc', 11, 'd', 'u', 'p', 'a', 11, 2, 3]"
      ]
     },
     "execution_count": 18,
     "metadata": {},
     "output_type": "execute_result"
    }
   ],
   "source": [
    "lista1\n"
   ]
  },
  {
   "cell_type": "code",
   "execution_count": 28,
   "id": "503e657a",
   "metadata": {},
   "outputs": [
    {
     "data": {
      "text/plain": [
       "True"
      ]
     },
     "execution_count": 28,
     "metadata": {},
     "output_type": "execute_result"
    }
   ],
   "source": [
    "a = lista1\n",
    "len(a)\n",
    "a[12-1]\n",
    "a[:6]\n",
    "a[6:]\n",
    "'d' in a\n"
   ]
  },
  {
   "cell_type": "code",
   "execution_count": 34,
   "id": "a896f6ac",
   "metadata": {},
   "outputs": [
    {
     "name": "stdout",
     "output_type": "stream",
     "text": [
      "[1, 2, 3, 'abc', 11, 'd', 'u', 'p', 'a', 11, 2, 3, '7,7', '7,7', '7,7', '7,7']\n"
     ]
    }
   ],
   "source": [
    "lista1.append('7,7')\n",
    "print(lista1)"
   ]
  },
  {
   "cell_type": "code",
   "execution_count": 35,
   "id": "33163bb7",
   "metadata": {},
   "outputs": [],
   "source": [
    "lista1.remove('abc')"
   ]
  },
  {
   "cell_type": "code",
   "execution_count": 36,
   "id": "c144dea0",
   "metadata": {},
   "outputs": [
    {
     "name": "stdout",
     "output_type": "stream",
     "text": [
      "[1, 2, 3, 11, 'd', 'u', 'p', 'a', 11, 2, 3, '7,7', '7,7', '7,7', '7,7']\n"
     ]
    }
   ],
   "source": [
    "print(lista1)"
   ]
  },
  {
   "cell_type": "code",
   "execution_count": 37,
   "id": "89903c70",
   "metadata": {},
   "outputs": [],
   "source": [
    "del lista1 [5]"
   ]
  },
  {
   "cell_type": "code",
   "execution_count": 39,
   "id": "decf55a5",
   "metadata": {},
   "outputs": [
    {
     "data": {
      "text/plain": [
       "[1, 2, 3, 11, 'd', 'p', 'a', 11, 2, 3, '7,7', '7,7', '7,7', '7,7']"
      ]
     },
     "execution_count": 39,
     "metadata": {},
     "output_type": "execute_result"
    }
   ],
   "source": [
    "lista1\n"
   ]
  },
  {
   "cell_type": "code",
   "execution_count": 47,
   "id": "298c0c4a",
   "metadata": {},
   "outputs": [
    {
     "name": "stdout",
     "output_type": "stream",
     "text": [
      "Bartek\n",
      "Bartek\n",
      "Bartek\n",
      "Bartek\n",
      "Bartek\n",
      "Bartek\n",
      "Bartek\n",
      "Bartek\n",
      "Bartek\n",
      "Bartek\n"
     ]
    }
   ],
   "source": [
    "for i in range (1,11):\n",
    "    i='Bartek'\n",
    "    print(i)"
   ]
  },
  {
   "cell_type": "code",
   "execution_count": 48,
   "id": "fb472838",
   "metadata": {},
   "outputs": [
    {
     "ename": "TypeError",
     "evalue": "'builtin_function_or_method' object is not subscriptable",
     "output_type": "error",
     "traceback": [
      "\u001b[1;31m---------------------------------------------------------------------------\u001b[0m",
      "\u001b[1;31mTypeError\u001b[0m                                 Traceback (most recent call last)",
      "\u001b[1;32m<ipython-input-48-761d9bccb055>\u001b[0m in \u001b[0;36m<module>\u001b[1;34m\u001b[0m\n\u001b[0;32m      1\u001b[0m \u001b[1;32mif\u001b[0m \u001b[1;34m'd'\u001b[0m\u001b[1;32min\u001b[0m \u001b[0mlista1\u001b[0m\u001b[1;33m:\u001b[0m\u001b[1;33m\u001b[0m\u001b[1;33m\u001b[0m\u001b[0m\n\u001b[1;32m----> 2\u001b[1;33m     \u001b[0mlista1\u001b[0m\u001b[1;33m.\u001b[0m\u001b[0mappend\u001b[0m\u001b[1;33m[\u001b[0m\u001b[1;34m'kutas'\u001b[0m\u001b[1;33m]\u001b[0m\u001b[1;33m\u001b[0m\u001b[1;33m\u001b[0m\u001b[0m\n\u001b[0m\u001b[0;32m      3\u001b[0m     \u001b[0mprint\u001b[0m\u001b[1;33m(\u001b[0m\u001b[0mlista1\u001b[0m\u001b[1;33m)\u001b[0m\u001b[1;33m\u001b[0m\u001b[1;33m\u001b[0m\u001b[0m\n",
      "\u001b[1;31mTypeError\u001b[0m: 'builtin_function_or_method' object is not subscriptable"
     ]
    }
   ],
   "source": [
    "if 'd'in lista1:\n",
    "    lista1.append['kutas']\n",
    "    print(lista1)"
   ]
  }
 ],
 "metadata": {
  "kernelspec": {
   "display_name": "Python 3",
   "language": "python",
   "name": "python3"
  },
  "language_info": {
   "codemirror_mode": {
    "name": "ipython",
    "version": 3
   },
   "file_extension": ".py",
   "mimetype": "text/x-python",
   "name": "python",
   "nbconvert_exporter": "python",
   "pygments_lexer": "ipython3",
   "version": "3.8.8"
  }
 },
 "nbformat": 4,
 "nbformat_minor": 5
}
