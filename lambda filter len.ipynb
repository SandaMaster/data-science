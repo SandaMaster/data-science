{
 "cells": [
  {
   "cell_type": "code",
   "execution_count": 5,
   "id": "1ed2bde6",
   "metadata": {},
   "outputs": [
    {
     "name": "stdout",
     "output_type": "stream",
     "text": [
      "4\n",
      "5\n"
     ]
    }
   ],
   "source": [
    "l = [1,2,3,4,5,6,7,8,9]\n",
    "\n",
    "print(len(list(filter(lambda x: x %2==0, l))))\n",
    "print(len(list(filter(lambda x: x %2!=0, l))))\n",
    "\n",
    "\n",
    "    \n",
    "        "
   ]
  },
  {
   "cell_type": "code",
   "execution_count": 12,
   "id": "7b32bc1b",
   "metadata": {},
   "outputs": [
    {
     "data": {
      "text/plain": [
       "['Wtorek', 'Piątek', 'Sobota']"
      ]
     },
     "execution_count": 12,
     "metadata": {},
     "output_type": "execute_result"
    }
   ],
   "source": [
    "w = ['Poniedziałek', 'Wtorek', 'Środa', 'Czwartek', 'Piątek', 'Sobota', 'Niedziela']\n",
    "d =list(filter(lambda x: len(x)  ==6, w))\n",
    "\n",
    "d"
   ]
  },
  {
   "cell_type": "code",
   "execution_count": 18,
   "id": "7859f585",
   "metadata": {},
   "outputs": [
    {
     "data": {
      "text/plain": [
       "[19, 65, 57, 39, 152, 190]"
      ]
     },
     "execution_count": 18,
     "metadata": {},
     "output_type": "execute_result"
    }
   ],
   "source": [
    "n = [19, 65, 57, 39, 152, 639, 121, 44, 90, 190]\n",
    "\n",
    "a = list(filter(lambda x: x%19==0 or x%13==0, n))\n",
    "a"
   ]
  },
  {
   "cell_type": "code",
   "execution_count": 20,
   "id": "595b6f70",
   "metadata": {},
   "outputs": [
    {
     "data": {
      "text/plain": [
       "['php', 'aaa']"
      ]
     },
     "execution_count": 20,
     "metadata": {},
     "output_type": "execute_result"
    }
   ],
   "source": [
    "t = [\"php\", \"w3r\", \"Python\", \"abcd\", \"Java\", \"aaa\"]\n",
    "a = list(filter(lambda x: x==x[::-1], t))\n",
    "a"
   ]
  },
  {
   "cell_type": "code",
   "execution_count": 25,
   "id": "f2b681e1",
   "metadata": {},
   "outputs": [
    {
     "data": {
      "text/plain": [
       "13"
      ]
     },
     "execution_count": 25,
     "metadata": {},
     "output_type": "execute_result"
    }
   ],
   "source": [
    "s = ['antoni', 'Jakub', 'zuzanna', 'Julia', 'Jan', 'szymon']\n",
    "a = list(filter(lambda x : x[0].isupper() and x[1:].islower(),s))\n",
    "\n",
    "j=0\n",
    "for i in a:\n",
    "    j += len(i)\n",
    "    \n",
    "\n",
    "j"
   ]
  },
  {
   "cell_type": "code",
   "execution_count": 30,
   "id": "c00269df",
   "metadata": {},
   "outputs": [
    {
     "data": {
      "text/plain": [
       "[1, 4, 9, 16, 25, 36, 49, 64, 81, 100]"
      ]
     },
     "execution_count": 30,
     "metadata": {},
     "output_type": "execute_result"
    }
   ],
   "source": [
    "nums = [1, 2, 3, 4, 5, 6, 7, 8, 9, 10]\n",
    "\n",
    "a = list(map(lambda x: x**2 , nums))\n",
    "b = list(map(lambda x: x**3 , nums))\n",
    "a"
   ]
  },
  {
   "cell_type": "code",
   "execution_count": 31,
   "id": "8a2d3a26",
   "metadata": {},
   "outputs": [
    {
     "data": {
      "text/plain": [
       "[5, 7, 9]"
      ]
     },
     "execution_count": 31,
     "metadata": {},
     "output_type": "execute_result"
    }
   ],
   "source": [
    "n1 = [1, 2, 3]\n",
    "n2 = [4, 5, 6]\n",
    "\n",
    "a=list(map(lambda x,y: x+y, n1, n2))\n",
    "a"
   ]
  },
  {
   "cell_type": "code",
   "execution_count": 32,
   "id": "c8c41edf",
   "metadata": {},
   "outputs": [
    {
     "data": {
      "text/plain": [
       "[4, 8, 12, 18, 22]"
      ]
     },
     "execution_count": 32,
     "metadata": {},
     "output_type": "execute_result"
    }
   ],
   "source": [
    "nums = [2, 4, 6, 9, 11]\n",
    "n = 2\n",
    "a=list(map(lambda x: x*n, nums))\n",
    "\n",
    "a"
   ]
  },
  {
   "cell_type": "code",
   "execution_count": 34,
   "id": "40767f1a",
   "metadata": {},
   "outputs": [
    {
     "name": "stdout",
     "output_type": "stream",
     "text": [
      "15\n"
     ]
    }
   ],
   "source": [
    "from functools import reduce\n",
    "nums = [1, 2, 3, 4, 5]\n",
    "print(reduce(lambda a, b: a + b, nums)) "
   ]
  },
  {
   "cell_type": "code",
   "execution_count": null,
   "id": "22dfe1f4",
   "metadata": {},
   "outputs": [],
   "source": []
  }
 ],
 "metadata": {
  "kernelspec": {
   "display_name": "Python 3",
   "language": "python",
   "name": "python3"
  },
  "language_info": {
   "codemirror_mode": {
    "name": "ipython",
    "version": 3
   },
   "file_extension": ".py",
   "mimetype": "text/x-python",
   "name": "python",
   "nbconvert_exporter": "python",
   "pygments_lexer": "ipython3",
   "version": "3.8.8"
  }
 },
 "nbformat": 4,
 "nbformat_minor": 5
}
