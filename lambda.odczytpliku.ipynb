{
 "cells": [
  {
   "cell_type": "code",
   "execution_count": 4,
   "id": "7aa5df48",
   "metadata": {},
   "outputs": [
    {
     "name": "stdout",
     "output_type": "stream",
     "text": [
      "lemonieada nr: 5\n"
     ]
    }
   ],
   "source": [
    "import fruit\n",
    "\n",
    "fruit.lemon(5)"
   ]
  },
  {
   "cell_type": "code",
   "execution_count": 8,
   "id": "fed4b480",
   "metadata": {},
   "outputs": [
    {
     "ename": "NameError",
     "evalue": "name '_name_' is not defined",
     "output_type": "error",
     "traceback": [
      "\u001b[1;31m---------------------------------------------------------------------------\u001b[0m",
      "\u001b[1;31mNameError\u001b[0m                                 Traceback (most recent call last)",
      "\u001b[1;32m<ipython-input-8-f56adc947ec8>\u001b[0m in \u001b[0;36m<module>\u001b[1;34m\u001b[0m\n\u001b[0;32m      1\u001b[0m \u001b[1;32mdef\u001b[0m \u001b[0mlemonn\u001b[0m\u001b[1;33m(\u001b[0m\u001b[0ml\u001b[0m\u001b[1;33m)\u001b[0m\u001b[1;33m:\u001b[0m\u001b[1;33m\u001b[0m\u001b[1;33m\u001b[0m\u001b[0m\n\u001b[0;32m      2\u001b[0m     \u001b[0mprint\u001b[0m\u001b[1;33m(\u001b[0m\u001b[1;34m'Lemoniada nr'\u001b[0m\u001b[1;33m,\u001b[0m\u001b[0ml\u001b[0m\u001b[1;33m)\u001b[0m\u001b[1;33m\u001b[0m\u001b[1;33m\u001b[0m\u001b[0m\n\u001b[1;32m----> 3\u001b[1;33m \u001b[1;32mif\u001b[0m \u001b[0m_name_\u001b[0m\u001b[1;33m==\u001b[0m\u001b[1;34m'_main_'\u001b[0m\u001b[1;33m:\u001b[0m\u001b[1;33m\u001b[0m\u001b[1;33m\u001b[0m\u001b[0m\n\u001b[0m\u001b[0;32m      4\u001b[0m     \u001b[1;32mimport\u001b[0m \u001b[0msys\u001b[0m\u001b[1;33m\u001b[0m\u001b[1;33m\u001b[0m\u001b[0m\n\u001b[0;32m      5\u001b[0m     \u001b[0mlemonn\u001b[0m\u001b[1;33m(\u001b[0m\u001b[0mint\u001b[0m\u001b[1;33m(\u001b[0m\u001b[0msys\u001b[0m\u001b[1;33m.\u001b[0m\u001b[0margv\u001b[0m\u001b[1;33m[\u001b[0m\u001b[1;36m1\u001b[0m\u001b[1;33m]\u001b[0m\u001b[1;33m)\u001b[0m\u001b[1;33m)\u001b[0m\u001b[1;33m\u001b[0m\u001b[1;33m\u001b[0m\u001b[0m\n",
      "\u001b[1;31mNameError\u001b[0m: name '_name_' is not defined"
     ]
    }
   ],
   "source": [
    "def lemonn(l):\n",
    "    print('Lemoniada nr',l)\n",
    "if _name_=='_main_':\n",
    "    import sys\n",
    "    lemonn(int(sys.argv[1]))"
   ]
  },
  {
   "cell_type": "code",
   "execution_count": 10,
   "id": "2ed5d087",
   "metadata": {},
   "outputs": [
    {
     "data": {
      "text/plain": [
       "5.0"
      ]
     },
     "execution_count": 10,
     "metadata": {},
     "output_type": "execute_result"
    }
   ],
   "source": [
    "#lambda arg1, arg2: arg1**arg2\n",
    "\n",
    "pytagolas = lambda a,b: ((a*a)+(b*b)) ** 0.5\n",
    "pytagolas(3,4)\n",
    "\n"
   ]
  },
  {
   "cell_type": "code",
   "execution_count": 11,
   "id": "f078a902",
   "metadata": {},
   "outputs": [],
   "source": []
  },
  {
   "cell_type": "code",
   "execution_count": 15,
   "id": "85ede665",
   "metadata": {},
   "outputs": [
    {
     "data": {
      "text/plain": [
       "7"
      ]
     },
     "execution_count": 15,
     "metadata": {},
     "output_type": "execute_result"
    }
   ],
   "source": [
    "l_sum = lambda x,y: x+y\n",
    "\n",
    "def c_sum(x,y):\n",
    "    return x+y\n",
    "\n",
    "\n",
    "c_sum(3,4)\n",
    "l_sum(3,4)"
   ]
  },
  {
   "cell_type": "code",
   "execution_count": 21,
   "id": "cf103e7f",
   "metadata": {},
   "outputs": [
    {
     "data": {
      "text/plain": [
       "'Niedzwiedz Janusz'"
      ]
     },
     "execution_count": 21,
     "metadata": {},
     "output_type": "execute_result"
    }
   ],
   "source": [
    "a = lambda x: x\n",
    "a('Niedzwiedz Janusz')"
   ]
  },
  {
   "cell_type": "code",
   "execution_count": 24,
   "id": "b689b867",
   "metadata": {},
   "outputs": [
    {
     "data": {
      "text/plain": [
       "27"
      ]
     },
     "execution_count": 24,
     "metadata": {},
     "output_type": "execute_result"
    }
   ],
   "source": [
    "b = lambda x : x +15\n",
    "b(12)"
   ]
  },
  {
   "cell_type": "code",
   "execution_count": 26,
   "id": "85a704ee",
   "metadata": {},
   "outputs": [
    {
     "data": {
      "text/plain": [
       "6"
      ]
     },
     "execution_count": 26,
     "metadata": {},
     "output_type": "execute_result"
    }
   ],
   "source": [
    "d = lambda x,y: x*y\n",
    "d(2,3)"
   ]
  },
  {
   "cell_type": "code",
   "execution_count": 32,
   "id": "2f9dfc02",
   "metadata": {},
   "outputs": [
    {
     "data": {
      "text/plain": [
       "[('Nauki społeczne', 82),\n",
       " ('Język angielski', 88),\n",
       " ('Nauka', 90),\n",
       " ('Matematyka', 97)]"
      ]
     },
     "execution_count": 32,
     "metadata": {},
     "output_type": "execute_result"
    }
   ],
   "source": [
    "\n",
    "\n",
    "\n",
    "subject_marks = [('Język angielski', 88),\n",
    "                 ('Nauka',           90),\n",
    "                 ('Matematyka',      97),\n",
    "                 ('Nauki społeczne', 82)]\n",
    "\n",
    "subject_marks.sort(key=lambda x: x[1])\n",
    "subject_marks\n",
    "\n",
    "\n",
    "    \n"
   ]
  },
  {
   "cell_type": "code",
   "execution_count": 37,
   "id": "cd092957",
   "metadata": {},
   "outputs": [
    {
     "data": {
      "text/plain": [
       "[{'marka': 'Nokia', 'model': '3310', 'kolor': 'Czarny'},\n",
       " {'marka': 'Samsung', 'model': 'Galaxy', 'kolor': 'Srebrny'},\n",
       " {'marka': 'Apple', 'model': '11', 'kolor': 'Złoty'}]"
      ]
     },
     "execution_count": 37,
     "metadata": {},
     "output_type": "execute_result"
    }
   ],
   "source": [
    "models = [{'marka': 'Nokia',   'model': '3310',   'kolor': 'Czarny'},\n",
    "          {'marka': 'Apple',   'model': '11',     'kolor': 'Złoty'},\n",
    "          {'marka': 'Samsung', 'model': 'Galaxy', 'kolor': 'Srebrny'}]\n",
    "\n",
    "a=sorted(models , key = lambda z: z['kolor'] )\n",
    "a"
   ]
  },
  {
   "cell_type": "code",
   "execution_count": 52,
   "id": "b92a6fb0",
   "metadata": {},
   "outputs": [
    {
     "data": {
      "text/plain": [
       "False"
      ]
     },
     "execution_count": 52,
     "metadata": {},
     "output_type": "execute_result"
    }
   ],
   "source": [
    "a = lambda x : x.startswith('P') \n",
    "a('mozna')\n",
    "\n",
    "\n",
    "        \n",
    "\n",
    "    \n",
    "    \n"
   ]
  },
  {
   "cell_type": "code",
   "execution_count": 54,
   "id": "fea91892",
   "metadata": {},
   "outputs": [],
   "source": [
    "import datetime, time\n",
    "\n"
   ]
  },
  {
   "cell_type": "code",
   "execution_count": 60,
   "id": "2e0c3bfa",
   "metadata": {},
   "outputs": [
    {
     "name": "stdout",
     "output_type": "stream",
     "text": [
      "2021\n",
      "10\n",
      "18\n",
      "20:24:01.031503\n"
     ]
    }
   ],
   "source": [
    "date1  = lambda rok: rok.year\n",
    "date2 = lambda moth: moth.month\n",
    "date3  = lambda da: da.day\n",
    "date4  = lambda tim: tim.time()\n",
    "\n",
    "sec = datetime.datetime.now()\n",
    "\n",
    "print(date1(sec))\n",
    "print(date2(sec))\n",
    "print(date3(sec))\n",
    "print(date4(sec))"
   ]
  },
  {
   "cell_type": "code",
   "execution_count": 68,
   "id": "b72b6631",
   "metadata": {},
   "outputs": [
    {
     "name": "stdout",
     "output_type": "stream",
     "text": [
      "False\n"
     ]
    }
   ],
   "source": [
    "#y = '2312.42.34'\n",
    "#b = '2342.43'\n",
    "c = ' -123123'\n",
    "\n",
    "\n",
    "x = lambda a: a.replace(\".\",\"\",1).isdigit() #isdigit --> widzi tylko int\n",
    "v = lambda f: x(a[1:])if c.startswith('-') else x(f)\n",
    "\n",
    "\n",
    "#x(y)\n",
    "#x(b)\n",
    "print(x(c))"
   ]
  },
  {
   "cell_type": "code",
   "execution_count": 69,
   "id": "77bf0f7c",
   "metadata": {},
   "outputs": [],
   "source": [
    "\n"
   ]
  },
  {
   "cell_type": "code",
   "execution_count": 76,
   "id": "001af30f",
   "metadata": {},
   "outputs": [
    {
     "ename": "TypeError",
     "evalue": "'list' object is not callable",
     "output_type": "error",
     "traceback": [
      "\u001b[1;31m---------------------------------------------------------------------------\u001b[0m",
      "\u001b[1;31mTypeError\u001b[0m                                 Traceback (most recent call last)",
      "\u001b[1;32m<ipython-input-76-f391b8024859>\u001b[0m in \u001b[0;36m<module>\u001b[1;34m\u001b[0m\n\u001b[0;32m      2\u001b[0m \u001b[1;33m\u001b[0m\u001b[0m\n\u001b[0;32m      3\u001b[0m \u001b[0mw\u001b[0m \u001b[1;33m=\u001b[0m \u001b[0mlist\u001b[0m\u001b[1;33m(\u001b[0m\u001b[0mfilter\u001b[0m\u001b[1;33m(\u001b[0m\u001b[1;32mlambda\u001b[0m \u001b[0mx\u001b[0m\u001b[1;33m:\u001b[0m \u001b[0mx\u001b[0m \u001b[1;33m%\u001b[0m \u001b[1;36m2\u001b[0m \u001b[1;33m==\u001b[0m \u001b[1;36m0\u001b[0m\u001b[1;33m,\u001b[0m \u001b[0mnums\u001b[0m \u001b[1;33m)\u001b[0m\u001b[1;33m)\u001b[0m\u001b[1;33m\u001b[0m\u001b[1;33m\u001b[0m\u001b[0m\n\u001b[1;32m----> 4\u001b[1;33m \u001b[0mw\u001b[0m\u001b[1;33m(\u001b[0m\u001b[0mnums\u001b[0m\u001b[1;33m)\u001b[0m\u001b[1;33m\u001b[0m\u001b[1;33m\u001b[0m\u001b[0m\n\u001b[0m\u001b[0;32m      5\u001b[0m \u001b[1;31m#z = list(filter(lambda x: x%2!=0, nums ))\u001b[0m\u001b[1;33m\u001b[0m\u001b[1;33m\u001b[0m\u001b[1;33m\u001b[0m\u001b[0m\n\u001b[0;32m      6\u001b[0m \u001b[1;31m#z(nums)\u001b[0m\u001b[1;33m\u001b[0m\u001b[1;33m\u001b[0m\u001b[1;33m\u001b[0m\u001b[0m\n",
      "\u001b[1;31mTypeError\u001b[0m: 'list' object is not callable"
     ]
    }
   ],
   "source": [
    "nums = [1, 2, 3, 4, 5, 6, 7, 8, 9, 10]\n",
    "\n",
    "w = list(filter(lambda x: x % 2 == 0, nums ))\n",
    "w(nums)\n",
    "#z = list(filter(lambda x: x%2!=0, nums ))\n",
    "#z(nums)"
   ]
  },
  {
   "cell_type": "code",
   "execution_count": 78,
   "id": "966cd144",
   "metadata": {},
   "outputs": [
    {
     "ename": "SyntaxError",
     "evalue": "invalid syntax (<ipython-input-78-712ed586401f>, line 5)",
     "output_type": "error",
     "traceback": [
      "\u001b[1;36m  File \u001b[1;32m\"<ipython-input-78-712ed586401f>\"\u001b[1;36m, line \u001b[1;32m5\u001b[0m\n\u001b[1;33m    print(list(filter(lambda x: if x in array_nums1,array_nums2 )))\u001b[0m\n\u001b[1;37m                                ^\u001b[0m\n\u001b[1;31mSyntaxError\u001b[0m\u001b[1;31m:\u001b[0m invalid syntax\n"
     ]
    }
   ],
   "source": [
    "array_nums1 = [1, 2, 3, 5, 7, 8, 9, 10]\n",
    "array_nums2 = [1, 2, 4, 8, 9]\n",
    "\n",
    "\n",
    "print(list(filter(lambda x: if x in array_nums1,array_nums2 ))) \n"
   ]
  }
 ],
 "metadata": {
  "kernelspec": {
   "display_name": "Python 3",
   "language": "python",
   "name": "python3"
  },
  "language_info": {
   "codemirror_mode": {
    "name": "ipython",
    "version": 3
   },
   "file_extension": ".py",
   "mimetype": "text/x-python",
   "name": "python",
   "nbconvert_exporter": "python",
   "pygments_lexer": "ipython3",
   "version": "3.8.8"
  }
 },
 "nbformat": 4,
 "nbformat_minor": 5
}
