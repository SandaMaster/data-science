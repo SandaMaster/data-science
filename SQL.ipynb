{
 "cells": [
  {
   "cell_type": "code",
   "execution_count": null,
   "id": "c2d3ff6c",
   "metadata": {},
   "outputs": [],
   "source": [
    "SELECT kolumna , kolumna FROM tabela\n",
    "\n",
    "SELECT * FROM Tabela # wysztkie koluny z tabeli\n",
    "\n",
    "ORDER BY # zmienia kolejnośc sortowania\n",
    "ASC DESC # rosnaco malejaco\n",
    "\n",
    "\n",
    "WHERE kolumna='wartosc' # koknkrtena wrtosc z kolumny\n",
    "\n",
    "DELETE # usuwa całe wiersze\n",
    "INSERT INTO Product VALUES(9,'Apaszka',35,2,'02.20.2021');\n",
    "DELETE FROM Product WHERE price >'20';\n",
    "\n",
    "SELECT*FROM Product;\n",
    "\n",
    "CREATE TABLE \"Product\" (\n",
    "\t\"id\"\t\tSMALLINT UNSIGNED IDENTITY(1,1) NOT NULL,\n",
    "\t\"name\"\t\tVARCHAR(50) NOT NULL,\n",
    "\t\"price\"\t\tFLOAT NOT NULL,\n",
    "\t\"amount\"\tTINYINT(2) NOT NULL,\n",
    "\t\"date\"\t\tDATE NOT NULL,\n",
    "\tPRIMARY KEY(\"id\")\n",
    ");"
   ]
  },
  {
   "cell_type": "code",
   "execution_count": null,
   "id": "5d3f5ee7",
   "metadata": {},
   "outputs": [],
   "source": [
    "SELECT * FROM customer WHERE name='Katarzyna' AND city='Lublin';\n",
    "SELECT id,name,price,amount,date FROM product WHERE price>25 OR amount>=5;\n",
    "SELECT id, name, price FROM Product WHERE name LIKE '%a%'"
   ]
  },
  {
   "cell_type": "code",
   "execution_count": null,
   "id": "68843bfb",
   "metadata": {},
   "outputs": [],
   "source": [
    "SELECT city, count(city) FROM Customer GROUP BY city HAVING count(city)>1;\n",
    "\n",
    "SELECT product_id, amount, sum(amount) FROM Order_product GROUP BY product_id HAVING sum(amount) in (2,4);"
   ]
  }
 ],
 "metadata": {
  "kernelspec": {
   "display_name": "Python 3",
   "language": "python",
   "name": "python3"
  },
  "language_info": {
   "codemirror_mode": {
    "name": "ipython",
    "version": 3
   },
   "file_extension": ".py",
   "mimetype": "text/x-python",
   "name": "python",
   "nbconvert_exporter": "python",
   "pygments_lexer": "ipython3",
   "version": "3.8.8"
  }
 },
 "nbformat": 4,
 "nbformat_minor": 5
}
