{
 "cells": [
  {
   "cell_type": "code",
   "execution_count": 1,
   "id": "346c6cea",
   "metadata": {},
   "outputs": [],
   "source": [
    "import math\n",
    "\n",
    "\n",
    "class Figura:\n",
    "    def obwod(self):  # L\n",
    "        \"\"\"Obliczanie obwodu.\"\"\"\n",
    "        raise NotImplementedError\n",
    "\n",
    "    def pole(self):  # S/P\n",
    "        \"\"\"Obliczanie pola powierzchni.\"\"\"\n",
    "        raise NotImplementedError"
   ]
  },
  {
   "cell_type": "code",
   "execution_count": 6,
   "id": "776e6b0a",
   "metadata": {},
   "outputs": [
    {
     "name": "stdout",
     "output_type": "stream",
     "text": [
      "6.283185307179586\n",
      "3.141592653589793\n"
     ]
    }
   ],
   "source": [
    "class kolo(Figura):\n",
    "    \n",
    "    def __init__ (self,r):\n",
    "        self.r= r \n",
    "        \n",
    "    def obwod (self):\n",
    "        return 2*math.pi*self.r\n",
    "    def pole(self):\n",
    "        return math.pi*self.r**2\n",
    "    \n",
    "o = kolo(1)\n",
    "\n",
    "print(o.obwod())\n",
    "print(o.pole())"
   ]
  },
  {
   "cell_type": "code",
   "execution_count": 11,
   "id": "ee1f95a9",
   "metadata": {},
   "outputs": [
    {
     "ename": "SyntaxError",
     "evalue": "invalid syntax (<ipython-input-11-12ceeb7159ca>, line 15)",
     "output_type": "error",
     "traceback": [
      "\u001b[1;36m  File \u001b[1;32m\"<ipython-input-11-12ceeb7159ca>\"\u001b[1;36m, line \u001b[1;32m15\u001b[0m\n\u001b[1;33m    tr.obwod()\u001b[0m\n\u001b[1;37m    ^\u001b[0m\n\u001b[1;31mSyntaxError\u001b[0m\u001b[1;31m:\u001b[0m invalid syntax\n"
     ]
    }
   ],
   "source": [
    "class trojkat(Figura):\n",
    "    \n",
    "    def __init__(self,bok):\n",
    "        self.bok = bok\n",
    "        \n",
    "    def obwod(self):\n",
    "        return 3*self.bok\n",
    "    \n",
    "    def pole(self):\n",
    "        return math.sqrt(3)*self.bok**2\n",
    "    \n",
    "tr = trojkat(3)\n",
    "\n",
    "print(tr.pole()\n",
    "tr.obwod()\n",
    "        "
   ]
  },
  {
   "cell_type": "code",
   "execution_count": 14,
   "id": "499d5806",
   "metadata": {},
   "outputs": [
    {
     "name": "stdout",
     "output_type": "stream",
     "text": [
      "12\n",
      "8\n"
     ]
    }
   ],
   "source": [
    "class prostokat(Figura):\n",
    "    \n",
    "    def __init__(self,a,b):\n",
    "        self.a =a\n",
    "        self.b =b\n",
    "    def obwod(self):\n",
    "        return 2*self.a+2*self.b\n",
    "    def pole(self):\n",
    "        return self.a*self.b\n",
    "    \n",
    "pr = prostokat(2,4)\n",
    "\n",
    "print(pr.obwod())\n",
    "print(pr.pole())"
   ]
  },
  {
   "cell_type": "code",
   "execution_count": 16,
   "id": "84e40e9c",
   "metadata": {},
   "outputs": [
    {
     "name": "stdout",
     "output_type": "stream",
     "text": [
      "12\n",
      "9\n"
     ]
    }
   ],
   "source": [
    "class kwadrat(prostokat):\n",
    "    \n",
    "    def __init__ (self, a):\n",
    "        self.a=a\n",
    "        self.b=a\n",
    "        \n",
    "k=kwadrat(3)\n",
    "print(k.obwod())\n",
    "print(k.pole())"
   ]
  },
  {
   "cell_type": "code",
   "execution_count": 47,
   "id": "7ce8f2ba",
   "metadata": {},
   "outputs": [
    {
     "name": "stdout",
     "output_type": "stream",
     "text": [
      "8.60555127546399\n"
     ]
    }
   ],
   "source": [
    "import math\n",
    "\n",
    "class trojkatL(Figura):\n",
    "    \n",
    "    def __init__ (self,a,b):\n",
    "        \n",
    "        self.a , self.b = a,b\n",
    "        self.c = math.sqrt(self.a**2+self.b**2)\n",
    "        \n",
    "    def obwod (self):\n",
    "        return self.a+self.b+self.c\n",
    "    \n",
    "    def pole (self):\n",
    "        return (self.a*self.b)/2\n",
    "    \n",
    "te = trojkatL(2,3)\n",
    "print(te.obwod())\n",
    "\n",
    "\n"
   ]
  },
  {
   "cell_type": "code",
   "execution_count": 35,
   "id": "2892eb11",
   "metadata": {},
   "outputs": [
    {
     "ename": "SyntaxError",
     "evalue": "invalid syntax (<ipython-input-35-4c22e79c5134>, line 13)",
     "output_type": "error",
     "traceback": [
      "\u001b[1;36m  File \u001b[1;32m\"<ipython-input-35-4c22e79c5134>\"\u001b[1;36m, line \u001b[1;32m13\u001b[0m\n\u001b[1;33m    print(v.('nazwa:', text.name, 'prdkosc:', text.max_speed, 'przebieg:', text.mileage))\u001b[0m\n\u001b[1;37m            ^\u001b[0m\n\u001b[1;31mSyntaxError\u001b[0m\u001b[1;31m:\u001b[0m invalid syntax\n"
     ]
    }
   ],
   "source": [
    "class Vehicle:\n",
    "\n",
    "    def __init__(self, name, max_speed, mileage):\n",
    "        self.name = name\n",
    "        self.max_speed = max_speed\n",
    "        self.mileage = mileage\n",
    "        \n",
    "class Bus(Vehicle):\n",
    "    pass\n",
    "\n",
    "v = Bus('Volvo',180,12)\n",
    "\n",
    "print(v.'nazwa:', text.name, 'prdkosc:', text.max_speed, 'przebieg:', text.mileage)"
   ]
  },
  {
   "cell_type": "code",
   "execution_count": 37,
   "id": "7bc21e1c",
   "metadata": {},
   "outputs": [],
   "source": [
    "class Vehicle:\n",
    "    def __init__(self, name, max_speed, mileage):\n",
    "        self.name = name\n",
    "        self.max_speed = max_speed\n",
    "        self.mileage = mileage\n",
    "\n",
    "    def seating_capacity(self, capacity):\n",
    "        return f\"Liczba miejsc siedzących w {self.name} to {capacity} pasażerów\""
   ]
  },
  {
   "cell_type": "code",
   "execution_count": 40,
   "id": "f6ae86db",
   "metadata": {},
   "outputs": [
    {
     "name": "stdout",
     "output_type": "stream",
     "text": [
      "Liczba miejsc siedzących w Volvo to 50 pasażerów\n"
     ]
    }
   ],
   "source": [
    "class Vehicle:\n",
    "    def __init__(self, name, max_speed, mileage):\n",
    "        self.name = name\n",
    "        self.max_speed = max_speed\n",
    "        self.mileage = mileage\n",
    "\n",
    "    def seating_capacity(self, capacity):\n",
    "        return f\"Liczba miejsc siedzących w {self.name} to {capacity} pasażerów\"\n",
    "class Bus(Vehicle):\n",
    "    def seating_capacity(self, capacity=50):\n",
    "        return super().seating_capacity(capacity)\n",
    "Autobus = Bus(\"Volvo\", \"180\" , \"12\")\n",
    "\n",
    "print(Autobus.seating_capacity())\n",
    "\n",
    "#super -- zastepuje 'Vehicle'"
   ]
  },
  {
   "cell_type": "code",
   "execution_count": 42,
   "id": "82280755",
   "metadata": {},
   "outputs": [],
   "source": [
    "class Vehicle:\n",
    "    color = 'bialy'\n",
    "    def __init__(self, name, max_speed, mileage):\n",
    "        self.name = name\n",
    "        self.max_speed = max_speed\n",
    "        self.mileage = mileage\n",
    "\n",
    "class Bus(Vehicle):\n",
    "    pass\n",
    "\n",
    "class Car(Vehicle):\n",
    "    pass\n",
    "\n",
    "\n"
   ]
  },
  {
   "cell_type": "code",
   "execution_count": 43,
   "id": "4d9dcf50",
   "metadata": {},
   "outputs": [
    {
     "name": "stdout",
     "output_type": "stream",
     "text": [
      "W 34 76 bialy\n",
      "Volvo 45 66 bialy\n"
     ]
    }
   ],
   "source": [
    "class Vehicle:\n",
    "    color = \"bialy\"\n",
    "\n",
    "    def __init__(self, name, max_speed, mileage):\n",
    "        self.name = name\n",
    "        self.max_speed = max_speed\n",
    "        self.mileage = mileage\n",
    "\n",
    "class Bus(Vehicle):\n",
    "    pass\n",
    "\n",
    "class Car(Vehicle):\n",
    "    pass\n",
    "b=Bus(\"Volvo\",45,66)\n",
    "c=Car(\"W\",34,76)\n",
    "print(c.name,c.max_speed,c.mileage,c.color)\n",
    "print(b.name,b.max_speed,b.mileage,b.color)"
   ]
  },
  {
   "cell_type": "code",
   "execution_count": 44,
   "id": "802697ee",
   "metadata": {},
   "outputs": [
    {
     "name": "stdout",
     "output_type": "stream",
     "text": [
      "Całkowita opłata za przejazd autobusem wynosi: 5500.0\n"
     ]
    }
   ],
   "source": [
    "class Vehicle:\n",
    "    def __init__(self, name, mileage, capacity):\n",
    "        self.name = name\n",
    "        self.mileage = mileage\n",
    "        self.capacity = capacity\n",
    "\n",
    "    def fare(self):\n",
    "        return self.capacity * 100\n",
    "\n",
    "class Bus(Vehicle):\n",
    "    def fare(self):\n",
    "        return super().fare()*1.1\n",
    "\n",
    "School_bus = Bus(\"Szkolne Volvo\", 12, 50)\n",
    "print(\"Całkowita opłata za przejazd autobusem wynosi:\", School_bus.fare())\n",
    "\n"
   ]
  },
  {
   "cell_type": "code",
   "execution_count": 45,
   "id": "84fe3c84",
   "metadata": {},
   "outputs": [
    {
     "name": "stdout",
     "output_type": "stream",
     "text": [
      "<class '__main__.Bus'>\n"
     ]
    }
   ],
   "source": [
    "class Vehicle:\n",
    "    def __init__(self, name, mileage, capacity):\n",
    "        self.name = name\n",
    "        self.mileage = mileage\n",
    "        self.capacity = capacity\n",
    "\n",
    "class Bus(Vehicle):\n",
    "    pass\n",
    "\n",
    "\n",
    "School_bus = Bus(\"Szkolne Volvo\", 12, 50)\n",
    "\n",
    "print(type(School_bus))"
   ]
  }
 ],
 "metadata": {
  "kernelspec": {
   "display_name": "Python 3",
   "language": "python",
   "name": "python3"
  },
  "language_info": {
   "codemirror_mode": {
    "name": "ipython",
    "version": 3
   },
   "file_extension": ".py",
   "mimetype": "text/x-python",
   "name": "python",
   "nbconvert_exporter": "python",
   "pygments_lexer": "ipython3",
   "version": "3.8.8"
  }
 },
 "nbformat": 4,
 "nbformat_minor": 5
}
