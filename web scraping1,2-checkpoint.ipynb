{
 "cells": [
  {
   "cell_type": "code",
   "execution_count": 10,
   "id": "722369c8",
   "metadata": {},
   "outputs": [],
   "source": [
    "import requests"
   ]
  },
  {
   "cell_type": "markdown",
   "id": "f8d705bd",
   "metadata": {},
   "source": [
    "# request Get\n"
   ]
  },
  {
   "cell_type": "code",
   "execution_count": 11,
   "id": "5b2d7caa",
   "metadata": {},
   "outputs": [
    {
     "data": {
      "text/plain": [
       "<Response [200]>"
      ]
     },
     "execution_count": 11,
     "metadata": {},
     "output_type": "execute_result"
    }
   ],
   "source": [
    "requests.get('https://api.github.com/')"
   ]
  },
  {
   "cell_type": "code",
   "execution_count": 16,
   "id": "58d15b8f",
   "metadata": {},
   "outputs": [
    {
     "data": {
      "text/plain": [
       "<Response [200]>"
      ]
     },
     "execution_count": 16,
     "metadata": {},
     "output_type": "execute_result"
    }
   ],
   "source": [
    "requests.get('https://www.olx.pl/oferty/q-golf-lpg/')\n"
   ]
  },
  {
   "cell_type": "code",
   "execution_count": 8,
   "id": "9d491982",
   "metadata": {},
   "outputs": [
    {
     "ename": "NameError",
     "evalue": "name 'respone' is not defined",
     "output_type": "error",
     "traceback": [
      "\u001b[1;31m----------------------------------------------------------------\u001b[0m",
      "\u001b[1;31mNameError\u001b[0m                      Traceback (most recent call last)",
      "\u001b[1;32m~\\AppData\\Local\\Temp/ipykernel_14572/1062981079.py\u001b[0m in \u001b[0;36m<module>\u001b[1;34m\u001b[0m\n\u001b[1;32m----> 1\u001b[1;33m \u001b[0mrespone\u001b[0m\u001b[1;33m\u001b[0m\u001b[1;33m\u001b[0m\u001b[0m\n\u001b[0m",
      "\u001b[1;31mNameError\u001b[0m: name 'respone' is not defined"
     ]
    }
   ],
   "source": []
  },
  {
   "cell_type": "code",
   "execution_count": 9,
   "id": "5266511d",
   "metadata": {},
   "outputs": [
    {
     "ename": "NameError",
     "evalue": "name 'response' is not defined",
     "output_type": "error",
     "traceback": [
      "\u001b[1;31m----------------------------------------------------------------\u001b[0m",
      "\u001b[1;31mNameError\u001b[0m                      Traceback (most recent call last)",
      "\u001b[1;32m~\\AppData\\Local\\Temp/ipykernel_14572/86214668.py\u001b[0m in \u001b[0;36m<module>\u001b[1;34m\u001b[0m\n\u001b[0;32m      1\u001b[0m \u001b[0mrequests\u001b[0m\u001b[1;33m.\u001b[0m\u001b[0mget\u001b[0m\u001b[1;33m(\u001b[0m\u001b[1;34m'https://www.olx.pl/oferty/q-golf-lpg/'\u001b[0m\u001b[1;33m)\u001b[0m\u001b[1;33m\u001b[0m\u001b[1;33m\u001b[0m\u001b[0m\n\u001b[1;32m----> 2\u001b[1;33m \u001b[0mresponse\u001b[0m\u001b[1;33m.\u001b[0m\u001b[0mcontent\u001b[0m\u001b[1;33m\u001b[0m\u001b[1;33m\u001b[0m\u001b[0m\n\u001b[0m",
      "\u001b[1;31mNameError\u001b[0m: name 'response' is not defined"
     ]
    }
   ],
   "source": [
    "\n"
   ]
  },
  {
   "cell_type": "markdown",
   "id": "4aa893c6",
   "metadata": {},
   "source": [
    "# beuitful Soup"
   ]
  },
  {
   "cell_type": "code",
   "execution_count": 6,
   "id": "d5002c74",
   "metadata": {},
   "outputs": [
    {
     "ename": "NameError",
     "evalue": "name 'request' is not defined",
     "output_type": "error",
     "traceback": [
      "\u001b[1;31m----------------------------------------------------------------\u001b[0m",
      "\u001b[1;31mNameError\u001b[0m                      Traceback (most recent call last)",
      "\u001b[1;32m~\\AppData\\Local\\Temp/ipykernel_14096/1197103815.py\u001b[0m in \u001b[0;36m<module>\u001b[1;34m\u001b[0m\n\u001b[0;32m      1\u001b[0m \u001b[0murl\u001b[0m \u001b[1;33m=\u001b[0m \u001b[1;34m'https://dataquestio.github.io/web-scraping-pages/simple.html'\u001b[0m\u001b[1;33m\u001b[0m\u001b[1;33m\u001b[0m\u001b[0m\n\u001b[1;32m----> 2\u001b[1;33m \u001b[0mr\u001b[0m \u001b[1;33m=\u001b[0m \u001b[0mrequest\u001b[0m\u001b[1;33m.\u001b[0m\u001b[0mget\u001b[0m\u001b[1;33m(\u001b[0m\u001b[0murl\u001b[0m\u001b[1;33m)\u001b[0m\u001b[1;33m\u001b[0m\u001b[1;33m\u001b[0m\u001b[0m\n\u001b[0m\u001b[0;32m      3\u001b[0m \u001b[0mprint\u001b[0m\u001b[1;33m(\u001b[0m\u001b[0mr\u001b[0m\u001b[1;33m.\u001b[0m\u001b[0mcontent\u001b[0m\u001b[1;33m)\u001b[0m\u001b[1;33m\u001b[0m\u001b[1;33m\u001b[0m\u001b[0m\n",
      "\u001b[1;31mNameError\u001b[0m: name 'request' is not defined"
     ]
    }
   ],
   "source": [
    "url = 'https://dataquestio.github.io/web-scraping-pages/simple.html'\n",
    "r = request.get(url)\n",
    "print(r.content)\n"
   ]
  },
  {
   "cell_type": "code",
   "execution_count": 8,
   "id": "c4a87bf8",
   "metadata": {},
   "outputs": [],
   "source": [
    "from bs4 import BeautifulSoup"
   ]
  },
  {
   "cell_type": "code",
   "execution_count": 12,
   "id": "4c93b24e",
   "metadata": {},
   "outputs": [
    {
     "name": "stdout",
     "output_type": "stream",
     "text": [
      "b'<!DOCTYPE html>\\n<html>\\n    <head>\\n        <title>A simple example page</title>\\n    </head>\\n    <body>\\n        <p>Here is some simple content for this page.</p>\\n    </body>\\n</html>'\n"
     ]
    }
   ],
   "source": [
    "import requests\n",
    "\n",
    "url = 'https://dataquestio.github.io/web-scraping-pages/simple.html'\n",
    "r = requests.get(url)\n",
    "\n",
    "print(r.content)\n",
    "\n",
    "from bs4 import BeautifulSoup\n",
    "\n",
    "soup = BeautifulSoup(r.content, 'html.parser')"
   ]
  },
  {
   "cell_type": "code",
   "execution_count": 13,
   "id": "72a3e8b3",
   "metadata": {},
   "outputs": [
    {
     "data": {
      "text/plain": [
       "<!DOCTYPE html>\n",
       "\n",
       "<html>\n",
       "<head>\n",
       "<title>A simple example page</title>\n",
       "</head>\n",
       "<body>\n",
       "<p>Here is some simple content for this page.</p>\n",
       "</body>\n",
       "</html>"
      ]
     },
     "execution_count": 13,
     "metadata": {},
     "output_type": "execute_result"
    }
   ],
   "source": [
    "soup"
   ]
  },
  {
   "cell_type": "code",
   "execution_count": 14,
   "id": "9f4a9760",
   "metadata": {},
   "outputs": [
    {
     "name": "stdout",
     "output_type": "stream",
     "text": [
      "<!DOCTYPE html>\n",
      "<html>\n",
      " <head>\n",
      "  <title>\n",
      "   A simple example page\n",
      "  </title>\n",
      " </head>\n",
      " <body>\n",
      "  <p>\n",
      "   Here is some simple content for this page.\n",
      "  </p>\n",
      " </body>\n",
      "</html>\n"
     ]
    }
   ],
   "source": [
    "print(soup.prettify())"
   ]
  },
  {
   "cell_type": "code",
   "execution_count": 17,
   "id": "9afbbf68",
   "metadata": {},
   "outputs": [
    {
     "name": "stdout",
     "output_type": "stream",
     "text": [
      "html <class 'bs4.element.Doctype'>\n",
      "\n",
      " <class 'bs4.element.NavigableString'>\n",
      "<html>\n",
      "<head>\n",
      "<title>A simple example page</title>\n",
      "</head>\n",
      "<body>\n",
      "<p>Here is some simple content for this page.</p>\n",
      "</body>\n",
      "</html> <class 'bs4.element.Tag'>\n"
     ]
    }
   ],
   "source": [
    "for child in soup.children:\n",
    "    print(child,type(child))"
   ]
  },
  {
   "cell_type": "code",
   "execution_count": 18,
   "id": "5ee4991a",
   "metadata": {},
   "outputs": [],
   "source": [
    "html = list(soup.children)[2]"
   ]
  },
  {
   "cell_type": "code",
   "execution_count": 19,
   "id": "d2ea8a7f",
   "metadata": {},
   "outputs": [
    {
     "data": {
      "text/plain": [
       "<list_iterator at 0x235d19f40a0>"
      ]
     },
     "execution_count": 19,
     "metadata": {},
     "output_type": "execute_result"
    }
   ],
   "source": [
    "html.children\n"
   ]
  },
  {
   "cell_type": "code",
   "execution_count": 22,
   "id": "7b7b1aa7",
   "metadata": {},
   "outputs": [
    {
     "name": "stdout",
     "output_type": "stream",
     "text": [
      "html <class 'bs4.element.Doctype'>\n",
      "\n",
      " <class 'bs4.element.NavigableString'>\n",
      "<html>\n",
      "<head>\n",
      "<title>A simple example page</title>\n",
      "</head>\n",
      "<body>\n",
      "<p>Here is some simple content for this page.</p>\n",
      "</body>\n",
      "</html> <class 'bs4.element.Tag'>\n"
     ]
    }
   ],
   "source": [
    "for child in soup.children:\n",
    "    print(child, type(child))"
   ]
  },
  {
   "cell_type": "code",
   "execution_count": 23,
   "id": "47b717f8",
   "metadata": {},
   "outputs": [],
   "source": [
    "body = list(html.children)[3]"
   ]
  },
  {
   "cell_type": "code",
   "execution_count": 24,
   "id": "e570773b",
   "metadata": {},
   "outputs": [
    {
     "data": {
      "text/plain": [
       "'Here is some simple content for this page.'"
      ]
     },
     "execution_count": 24,
     "metadata": {},
     "output_type": "execute_result"
    }
   ],
   "source": [
    " p = list(body.children)[1]\n",
    "p.get_text()"
   ]
  },
  {
   "cell_type": "code",
   "execution_count": 28,
   "id": "2495d3bb",
   "metadata": {},
   "outputs": [],
   "source": [
    "ps = soup.find_all('p') # wszykaj wsztko z p"
   ]
  },
  {
   "cell_type": "code",
   "execution_count": 29,
   "id": "837a4ee2",
   "metadata": {},
   "outputs": [
    {
     "data": {
      "text/plain": [
       "'Here is some simple content for this page.'"
      ]
     },
     "execution_count": 29,
     "metadata": {},
     "output_type": "execute_result"
    }
   ],
   "source": [
    "ps[0].get_text()"
   ]
  },
  {
   "cell_type": "code",
   "execution_count": 33,
   "id": "b51b002f",
   "metadata": {},
   "outputs": [
    {
     "data": {
      "text/plain": [
       "<html>\n",
       "<head>\n",
       "<title>A simple example page</title>\n",
       "</head>\n",
       "<body>\n",
       "<div>\n",
       "<p class=\"inner-text first-item\" id=\"first\">\n",
       "                First paragraph.\n",
       "            </p>\n",
       "<p class=\"inner-text\">\n",
       "                Second paragraph.\n",
       "            </p>\n",
       "</div>\n",
       "<p class=\"outer-text first-item\" id=\"second\">\n",
       "<b>\n",
       "                First outer paragraph.\n",
       "            </b>\n",
       "</p>\n",
       "<p class=\"outer-text\">\n",
       "<b>\n",
       "                Second outer paragraph.\n",
       "            </b>\n",
       "</p>\n",
       "</body>\n",
       "</html>"
      ]
     },
     "execution_count": 33,
     "metadata": {},
     "output_type": "execute_result"
    }
   ],
   "source": [
    "r = requests.get('https://dataquestio.github.io/web-scraping-pages/ids_and_classes.html')\n",
    "soup = BeautifulSoup(r.content, 'html.parser')\n",
    "soup\n"
   ]
  },
  {
   "cell_type": "code",
   "execution_count": 34,
   "id": "53ccb929",
   "metadata": {},
   "outputs": [
    {
     "data": {
      "text/plain": [
       "[<p class=\"inner-text first-item\" id=\"first\">\n",
       "                 First paragraph.\n",
       "             </p>,\n",
       " <p class=\"inner-text\">\n",
       "                 Second paragraph.\n",
       "             </p>]"
      ]
     },
     "execution_count": 34,
     "metadata": {},
     "output_type": "execute_result"
    }
   ],
   "source": [
    "soup.select('div p')"
   ]
  },
  {
   "cell_type": "code",
   "execution_count": 35,
   "id": "2a5e98c3",
   "metadata": {},
   "outputs": [
    {
     "data": {
      "text/plain": [
       "[<p class=\"outer-text first-item\" id=\"second\">\n",
       " <b>\n",
       "                 First outer paragraph.\n",
       "             </b>\n",
       " </p>,\n",
       " <p class=\"outer-text\">\n",
       " <b>\n",
       "                 Second outer paragraph.\n",
       "             </b>\n",
       " </p>]"
      ]
     },
     "execution_count": 35,
     "metadata": {},
     "output_type": "execute_result"
    }
   ],
   "source": [
    "soup.find_all(class_='outer-text')"
   ]
  },
  {
   "cell_type": "code",
   "execution_count": 46,
   "id": "9f7a753c",
   "metadata": {},
   "outputs": [],
   "source": [
    "p = requests.get('https://forecast.weather.gov/MapClick.php?lat=37.7772&lon=-122.4168')\n",
    "soup = BeautifulSoup(p.content, 'html.parser')"
   ]
  },
  {
   "cell_type": "code",
   "execution_count": 47,
   "id": "a16df932",
   "metadata": {},
   "outputs": [],
   "source": [
    "seven_day_forecast = soup.find(id='seven-day-forecast')"
   ]
  },
  {
   "cell_type": "code",
   "execution_count": 50,
   "id": "ec5225f5",
   "metadata": {},
   "outputs": [],
   "source": [
    "forecats_items = seven_day_forecast.find_all(class_='tombstone-container')\n"
   ]
  },
  {
   "cell_type": "code",
   "execution_count": 54,
   "id": "9cf4d1fd",
   "metadata": {},
   "outputs": [
    {
     "name": "stdout",
     "output_type": "stream",
     "text": [
      "<bound method Tag.prettify of <div class=\"tombstone-container\">\n",
      "<p class=\"period-name\">Today<br/><br/></p>\n",
      "<p><img alt=\"Today: Sunny, with a high near 63. North northwest wind 5 to 10 mph. \" class=\"forecast-icon\" src=\"newimages/medium/few.png\" title=\"Today: Sunny, with a high near 63. North northwest wind 5 to 10 mph. \"/></p><p class=\"short-desc\">Sunny</p><p class=\"temp temp-high\">High: 63 °F</p></div>>\n"
     ]
    }
   ],
   "source": [
    "today =  forecats_items[0]\n",
    "print(today.prettify)"
   ]
  },
  {
   "cell_type": "code",
   "execution_count": 55,
   "id": "159e5aed",
   "metadata": {},
   "outputs": [
    {
     "data": {
      "text/plain": [
       "[<div class=\"tombstone-container\">\n",
       " <p class=\"period-name\">Today<br/><br/></p>\n",
       " <p><img alt=\"Today: Sunny, with a high near 63. North northwest wind 5 to 10 mph. \" class=\"forecast-icon\" src=\"newimages/medium/few.png\" title=\"Today: Sunny, with a high near 63. North northwest wind 5 to 10 mph. \"/></p><p class=\"short-desc\">Sunny</p><p class=\"temp temp-high\">High: 63 °F</p></div>,\n",
       " <div class=\"tombstone-container\">\n",
       " <p class=\"period-name\">Tonight<br/><br/></p>\n",
       " <p><img alt=\"Tonight: Increasing clouds, with a low around 51. North wind 6 to 9 mph. \" class=\"forecast-icon\" src=\"newimages/medium/nbkn.png\" title=\"Tonight: Increasing clouds, with a low around 51. North wind 6 to 9 mph. \"/></p><p class=\"short-desc\">Increasing<br/>Clouds</p><p class=\"temp temp-low\">Low: 51 °F</p></div>,\n",
       " <div class=\"tombstone-container\">\n",
       " <p class=\"period-name\">Thursday<br/><br/></p>\n",
       " <p><img alt=\"Thursday: Mostly cloudy, with a high near 61. Light northwest wind becoming west 5 to 9 mph in the morning. \" class=\"forecast-icon\" src=\"newimages/medium/bkn.png\" title=\"Thursday: Mostly cloudy, with a high near 61. Light northwest wind becoming west 5 to 9 mph in the morning. \"/></p><p class=\"short-desc\">Mostly Cloudy</p><p class=\"temp temp-high\">High: 61 °F</p></div>,\n",
       " <div class=\"tombstone-container\">\n",
       " <p class=\"period-name\">Thursday<br/>Night</p>\n",
       " <p><img alt=\"Thursday Night: A 40 percent chance of showers.  Mostly cloudy, with a low around 53. West southwest wind 5 to 9 mph. \" class=\"forecast-icon\" src=\"newimages/medium/nshra40.png\" title=\"Thursday Night: A 40 percent chance of showers.  Mostly cloudy, with a low around 53. West southwest wind 5 to 9 mph. \"/></p><p class=\"short-desc\">Chance<br/>Showers</p><p class=\"temp temp-low\">Low: 53 °F</p></div>,\n",
       " <div class=\"tombstone-container\">\n",
       " <p class=\"period-name\">Friday<br/><br/></p>\n",
       " <p><img alt=\"Friday: A 50 percent chance of showers.  Mostly cloudy, with a high near 62. South southeast wind 5 to 7 mph becoming calm  in the morning. \" class=\"forecast-icon\" src=\"newimages/medium/shra50.png\" title=\"Friday: A 50 percent chance of showers.  Mostly cloudy, with a high near 62. South southeast wind 5 to 7 mph becoming calm  in the morning. \"/></p><p class=\"short-desc\">Chance<br/>Showers</p><p class=\"temp temp-high\">High: 62 °F</p></div>,\n",
       " <div class=\"tombstone-container\">\n",
       " <p class=\"period-name\">Friday<br/>Night</p>\n",
       " <p><img alt=\"Friday Night: A 30 percent chance of showers.  Mostly cloudy, with a low around 53.\" class=\"forecast-icon\" src=\"newimages/medium/nshra30.png\" title=\"Friday Night: A 30 percent chance of showers.  Mostly cloudy, with a low around 53.\"/></p><p class=\"short-desc\">Chance<br/>Showers</p><p class=\"temp temp-low\">Low: 53 °F</p></div>,\n",
       " <div class=\"tombstone-container\">\n",
       " <p class=\"period-name\">Saturday<br/><br/></p>\n",
       " <p><img alt=\"Saturday: Mostly sunny, with a high near 63.\" class=\"forecast-icon\" src=\"newimages/medium/sct.png\" title=\"Saturday: Mostly sunny, with a high near 63.\"/></p><p class=\"short-desc\">Mostly Sunny</p><p class=\"temp temp-high\">High: 63 °F</p></div>,\n",
       " <div class=\"tombstone-container\">\n",
       " <p class=\"period-name\">Saturday<br/>Night</p>\n",
       " <p><img alt=\"Saturday Night: Mostly clear, with a low around 50.\" class=\"forecast-icon\" src=\"newimages/medium/nfew.png\" title=\"Saturday Night: Mostly clear, with a low around 50.\"/></p><p class=\"short-desc\">Mostly Clear</p><p class=\"temp temp-low\">Low: 50 °F</p></div>,\n",
       " <div class=\"tombstone-container\">\n",
       " <p class=\"period-name\">Sunday<br/><br/></p>\n",
       " <p><img alt=\"Sunday: Sunny, with a high near 65.\" class=\"forecast-icon\" src=\"newimages/medium/few.png\" title=\"Sunday: Sunny, with a high near 65.\"/></p><p class=\"short-desc\">Sunny</p><p class=\"temp temp-high\">High: 65 °F</p></div>]"
      ]
     },
     "execution_count": 55,
     "metadata": {},
     "output_type": "execute_result"
    }
   ],
   "source": [
    "forecats_items"
   ]
  },
  {
   "cell_type": "code",
   "execution_count": 60,
   "id": "3f271e88",
   "metadata": {},
   "outputs": [],
   "source": [
    "periods = [p.get_text()\n",
    "           for p in seven_day_forecast.find_all(\n",
    "               class_='period-name')\n",
    "          ]\n",
    "short_descs = [sd.get_text() \n",
    "               for sd in seven_day_forecast.find_all(\n",
    "                   class_='short-desc')\n",
    "              ]\n",
    "descs = [img['title'] \n",
    "         for img in seven_day_forecast.find_all('img')]\n",
    "\n",
    "temps = [p.get_text()\n",
    "         for p in seven_day_forecast.find_all(\n",
    "             class_='temp')\n",
    "        ]"
   ]
  },
  {
   "cell_type": "code",
   "execution_count": 62,
   "id": "e34ae17a",
   "metadata": {},
   "outputs": [],
   "source": [
    "import pandas as pd"
   ]
  },
  {
   "cell_type": "code",
   "execution_count": 64,
   "id": "a31e01d5",
   "metadata": {},
   "outputs": [
    {
     "data": {
      "text/html": [
       "<div>\n",
       "<style scoped>\n",
       "    .dataframe tbody tr th:only-of-type {\n",
       "        vertical-align: middle;\n",
       "    }\n",
       "\n",
       "    .dataframe tbody tr th {\n",
       "        vertical-align: top;\n",
       "    }\n",
       "\n",
       "    .dataframe thead th {\n",
       "        text-align: right;\n",
       "    }\n",
       "</style>\n",
       "<table border=\"1\" class=\"dataframe\">\n",
       "  <thead>\n",
       "    <tr style=\"text-align: right;\">\n",
       "      <th></th>\n",
       "      <th>periods</th>\n",
       "      <th>short_desc</th>\n",
       "      <th>desc</th>\n",
       "      <th>temp</th>\n",
       "    </tr>\n",
       "  </thead>\n",
       "  <tbody>\n",
       "    <tr>\n",
       "      <th>0</th>\n",
       "      <td>Today</td>\n",
       "      <td>Sunny</td>\n",
       "      <td>Today: Sunny, with a high near 63. North north...</td>\n",
       "      <td>High: 63 °F</td>\n",
       "    </tr>\n",
       "    <tr>\n",
       "      <th>1</th>\n",
       "      <td>Tonight</td>\n",
       "      <td>IncreasingClouds</td>\n",
       "      <td>Tonight: Increasing clouds, with a low around ...</td>\n",
       "      <td>Low: 51 °F</td>\n",
       "    </tr>\n",
       "    <tr>\n",
       "      <th>2</th>\n",
       "      <td>Thursday</td>\n",
       "      <td>Mostly Cloudy</td>\n",
       "      <td>Thursday: Mostly cloudy, with a high near 61. ...</td>\n",
       "      <td>High: 61 °F</td>\n",
       "    </tr>\n",
       "    <tr>\n",
       "      <th>3</th>\n",
       "      <td>ThursdayNight</td>\n",
       "      <td>ChanceShowers</td>\n",
       "      <td>Thursday Night: A 40 percent chance of showers...</td>\n",
       "      <td>Low: 53 °F</td>\n",
       "    </tr>\n",
       "    <tr>\n",
       "      <th>4</th>\n",
       "      <td>Friday</td>\n",
       "      <td>ChanceShowers</td>\n",
       "      <td>Friday: A 50 percent chance of showers.  Mostl...</td>\n",
       "      <td>High: 62 °F</td>\n",
       "    </tr>\n",
       "    <tr>\n",
       "      <th>5</th>\n",
       "      <td>FridayNight</td>\n",
       "      <td>ChanceShowers</td>\n",
       "      <td>Friday Night: A 30 percent chance of showers. ...</td>\n",
       "      <td>Low: 53 °F</td>\n",
       "    </tr>\n",
       "    <tr>\n",
       "      <th>6</th>\n",
       "      <td>Saturday</td>\n",
       "      <td>Mostly Sunny</td>\n",
       "      <td>Saturday: Mostly sunny, with a high near 63.</td>\n",
       "      <td>High: 63 °F</td>\n",
       "    </tr>\n",
       "    <tr>\n",
       "      <th>7</th>\n",
       "      <td>SaturdayNight</td>\n",
       "      <td>Mostly Clear</td>\n",
       "      <td>Saturday Night: Mostly clear, with a low aroun...</td>\n",
       "      <td>Low: 50 °F</td>\n",
       "    </tr>\n",
       "    <tr>\n",
       "      <th>8</th>\n",
       "      <td>Sunday</td>\n",
       "      <td>Sunny</td>\n",
       "      <td>Sunday: Sunny, with a high near 65.</td>\n",
       "      <td>High: 65 °F</td>\n",
       "    </tr>\n",
       "  </tbody>\n",
       "</table>\n",
       "</div>"
      ],
      "text/plain": [
       "         periods        short_desc  \\\n",
       "0          Today             Sunny   \n",
       "1        Tonight  IncreasingClouds   \n",
       "2       Thursday     Mostly Cloudy   \n",
       "3  ThursdayNight     ChanceShowers   \n",
       "4         Friday     ChanceShowers   \n",
       "5    FridayNight     ChanceShowers   \n",
       "6       Saturday      Mostly Sunny   \n",
       "7  SaturdayNight      Mostly Clear   \n",
       "8         Sunday             Sunny   \n",
       "\n",
       "                                                desc         temp  \n",
       "0  Today: Sunny, with a high near 63. North north...  High: 63 °F  \n",
       "1  Tonight: Increasing clouds, with a low around ...   Low: 51 °F  \n",
       "2  Thursday: Mostly cloudy, with a high near 61. ...  High: 61 °F  \n",
       "3  Thursday Night: A 40 percent chance of showers...   Low: 53 °F  \n",
       "4  Friday: A 50 percent chance of showers.  Mostl...  High: 62 °F  \n",
       "5  Friday Night: A 30 percent chance of showers. ...   Low: 53 °F  \n",
       "6       Saturday: Mostly sunny, with a high near 63.  High: 63 °F  \n",
       "7  Saturday Night: Mostly clear, with a low aroun...   Low: 50 °F  \n",
       "8                Sunday: Sunny, with a high near 65.  High: 65 °F  "
      ]
     },
     "execution_count": 64,
     "metadata": {},
     "output_type": "execute_result"
    }
   ],
   "source": [
    "weather_df = pd.DataFrame({\n",
    "    'periods':periods,\n",
    "    'short_desc':short_descs,\n",
    "    'desc':descs,\n",
    "    'temp':temps\n",
    "})\n",
    "\n",
    "weather_df"
   ]
  },
  {
   "cell_type": "code",
   "execution_count": 72,
   "id": "e978eb0f",
   "metadata": {},
   "outputs": [],
   "source": [
    "weather_df['temp_num']= (\n",
    "    weather_df['temp']\n",
    "    .str.extract('(\\d+)', \n",
    "    expand=False).astype('int') ) #wyciag wsztskie liczby"
   ]
  },
  {
   "cell_type": "code",
   "execution_count": 73,
   "id": "9d55e5d6",
   "metadata": {},
   "outputs": [
    {
     "data": {
      "text/html": [
       "<div>\n",
       "<style scoped>\n",
       "    .dataframe tbody tr th:only-of-type {\n",
       "        vertical-align: middle;\n",
       "    }\n",
       "\n",
       "    .dataframe tbody tr th {\n",
       "        vertical-align: top;\n",
       "    }\n",
       "\n",
       "    .dataframe thead th {\n",
       "        text-align: right;\n",
       "    }\n",
       "</style>\n",
       "<table border=\"1\" class=\"dataframe\">\n",
       "  <thead>\n",
       "    <tr style=\"text-align: right;\">\n",
       "      <th></th>\n",
       "      <th>periods</th>\n",
       "      <th>short_desc</th>\n",
       "      <th>desc</th>\n",
       "      <th>temp</th>\n",
       "      <th>temp_num</th>\n",
       "    </tr>\n",
       "  </thead>\n",
       "  <tbody>\n",
       "    <tr>\n",
       "      <th>0</th>\n",
       "      <td>Today</td>\n",
       "      <td>Sunny</td>\n",
       "      <td>Today: Sunny, with a high near 63. North north...</td>\n",
       "      <td>High: 63 °F</td>\n",
       "      <td>63</td>\n",
       "    </tr>\n",
       "    <tr>\n",
       "      <th>1</th>\n",
       "      <td>Tonight</td>\n",
       "      <td>IncreasingClouds</td>\n",
       "      <td>Tonight: Increasing clouds, with a low around ...</td>\n",
       "      <td>Low: 51 °F</td>\n",
       "      <td>51</td>\n",
       "    </tr>\n",
       "    <tr>\n",
       "      <th>2</th>\n",
       "      <td>Thursday</td>\n",
       "      <td>Mostly Cloudy</td>\n",
       "      <td>Thursday: Mostly cloudy, with a high near 61. ...</td>\n",
       "      <td>High: 61 °F</td>\n",
       "      <td>61</td>\n",
       "    </tr>\n",
       "    <tr>\n",
       "      <th>3</th>\n",
       "      <td>ThursdayNight</td>\n",
       "      <td>ChanceShowers</td>\n",
       "      <td>Thursday Night: A 40 percent chance of showers...</td>\n",
       "      <td>Low: 53 °F</td>\n",
       "      <td>53</td>\n",
       "    </tr>\n",
       "    <tr>\n",
       "      <th>4</th>\n",
       "      <td>Friday</td>\n",
       "      <td>ChanceShowers</td>\n",
       "      <td>Friday: A 50 percent chance of showers.  Mostl...</td>\n",
       "      <td>High: 62 °F</td>\n",
       "      <td>62</td>\n",
       "    </tr>\n",
       "    <tr>\n",
       "      <th>5</th>\n",
       "      <td>FridayNight</td>\n",
       "      <td>ChanceShowers</td>\n",
       "      <td>Friday Night: A 30 percent chance of showers. ...</td>\n",
       "      <td>Low: 53 °F</td>\n",
       "      <td>53</td>\n",
       "    </tr>\n",
       "    <tr>\n",
       "      <th>6</th>\n",
       "      <td>Saturday</td>\n",
       "      <td>Mostly Sunny</td>\n",
       "      <td>Saturday: Mostly sunny, with a high near 63.</td>\n",
       "      <td>High: 63 °F</td>\n",
       "      <td>63</td>\n",
       "    </tr>\n",
       "    <tr>\n",
       "      <th>7</th>\n",
       "      <td>SaturdayNight</td>\n",
       "      <td>Mostly Clear</td>\n",
       "      <td>Saturday Night: Mostly clear, with a low aroun...</td>\n",
       "      <td>Low: 50 °F</td>\n",
       "      <td>50</td>\n",
       "    </tr>\n",
       "    <tr>\n",
       "      <th>8</th>\n",
       "      <td>Sunday</td>\n",
       "      <td>Sunny</td>\n",
       "      <td>Sunday: Sunny, with a high near 65.</td>\n",
       "      <td>High: 65 °F</td>\n",
       "      <td>65</td>\n",
       "    </tr>\n",
       "  </tbody>\n",
       "</table>\n",
       "</div>"
      ],
      "text/plain": [
       "         periods        short_desc  \\\n",
       "0          Today             Sunny   \n",
       "1        Tonight  IncreasingClouds   \n",
       "2       Thursday     Mostly Cloudy   \n",
       "3  ThursdayNight     ChanceShowers   \n",
       "4         Friday     ChanceShowers   \n",
       "5    FridayNight     ChanceShowers   \n",
       "6       Saturday      Mostly Sunny   \n",
       "7  SaturdayNight      Mostly Clear   \n",
       "8         Sunday             Sunny   \n",
       "\n",
       "                                                desc         temp  temp_num  \n",
       "0  Today: Sunny, with a high near 63. North north...  High: 63 °F        63  \n",
       "1  Tonight: Increasing clouds, with a low around ...   Low: 51 °F        51  \n",
       "2  Thursday: Mostly cloudy, with a high near 61. ...  High: 61 °F        61  \n",
       "3  Thursday Night: A 40 percent chance of showers...   Low: 53 °F        53  \n",
       "4  Friday: A 50 percent chance of showers.  Mostl...  High: 62 °F        62  \n",
       "5  Friday Night: A 30 percent chance of showers. ...   Low: 53 °F        53  \n",
       "6       Saturday: Mostly sunny, with a high near 63.  High: 63 °F        63  \n",
       "7  Saturday Night: Mostly clear, with a low aroun...   Low: 50 °F        50  \n",
       "8                Sunday: Sunny, with a high near 65.  High: 65 °F        65  "
      ]
     },
     "execution_count": 73,
     "metadata": {},
     "output_type": "execute_result"
    }
   ],
   "source": [
    "weather_df"
   ]
  },
  {
   "cell_type": "code",
   "execution_count": 75,
   "id": "53639259",
   "metadata": {},
   "outputs": [
    {
     "data": {
      "text/html": [
       "<div>\n",
       "<style scoped>\n",
       "    .dataframe tbody tr th:only-of-type {\n",
       "        vertical-align: middle;\n",
       "    }\n",
       "\n",
       "    .dataframe tbody tr th {\n",
       "        vertical-align: top;\n",
       "    }\n",
       "\n",
       "    .dataframe thead th {\n",
       "        text-align: right;\n",
       "    }\n",
       "</style>\n",
       "<table border=\"1\" class=\"dataframe\">\n",
       "  <thead>\n",
       "    <tr style=\"text-align: right;\">\n",
       "      <th></th>\n",
       "      <th>periods</th>\n",
       "      <th>short_desc</th>\n",
       "      <th>desc</th>\n",
       "      <th>temp</th>\n",
       "      <th>temp_num</th>\n",
       "    </tr>\n",
       "  </thead>\n",
       "  <tbody>\n",
       "    <tr>\n",
       "      <th>1</th>\n",
       "      <td>Tonight</td>\n",
       "      <td>IncreasingClouds</td>\n",
       "      <td>Tonight: Increasing clouds, with a low around ...</td>\n",
       "      <td>Low: 51 °F</td>\n",
       "      <td>51</td>\n",
       "    </tr>\n",
       "    <tr>\n",
       "      <th>3</th>\n",
       "      <td>ThursdayNight</td>\n",
       "      <td>ChanceShowers</td>\n",
       "      <td>Thursday Night: A 40 percent chance of showers...</td>\n",
       "      <td>Low: 53 °F</td>\n",
       "      <td>53</td>\n",
       "    </tr>\n",
       "    <tr>\n",
       "      <th>5</th>\n",
       "      <td>FridayNight</td>\n",
       "      <td>ChanceShowers</td>\n",
       "      <td>Friday Night: A 30 percent chance of showers. ...</td>\n",
       "      <td>Low: 53 °F</td>\n",
       "      <td>53</td>\n",
       "    </tr>\n",
       "    <tr>\n",
       "      <th>7</th>\n",
       "      <td>SaturdayNight</td>\n",
       "      <td>Mostly Clear</td>\n",
       "      <td>Saturday Night: Mostly clear, with a low aroun...</td>\n",
       "      <td>Low: 50 °F</td>\n",
       "      <td>50</td>\n",
       "    </tr>\n",
       "  </tbody>\n",
       "</table>\n",
       "</div>"
      ],
      "text/plain": [
       "         periods        short_desc  \\\n",
       "1        Tonight  IncreasingClouds   \n",
       "3  ThursdayNight     ChanceShowers   \n",
       "5    FridayNight     ChanceShowers   \n",
       "7  SaturdayNight      Mostly Clear   \n",
       "\n",
       "                                                desc        temp  temp_num  \n",
       "1  Tonight: Increasing clouds, with a low around ...  Low: 51 °F        51  \n",
       "3  Thursday Night: A 40 percent chance of showers...  Low: 53 °F        53  \n",
       "5  Friday Night: A 30 percent chance of showers. ...  Low: 53 °F        53  \n",
       "7  Saturday Night: Mostly clear, with a low aroun...  Low: 50 °F        50  "
      ]
     },
     "execution_count": 75,
     "metadata": {},
     "output_type": "execute_result"
    }
   ],
   "source": [
    "weather_df[weather_df['temp'].str.contains('Low')] # wyciaga tylko noc"
   ]
  },
  {
   "cell_type": "code",
   "execution_count": 84,
   "id": "53f1db12",
   "metadata": {},
   "outputs": [
    {
     "ename": "SyntaxError",
     "evalue": "invalid syntax (Temp/ipykernel_14096/1376159436.py, line 1)",
     "output_type": "error",
     "traceback": [
      "\u001b[1;36m  File \u001b[1;32m\"C:\\Users\\mrgrz\\AppData\\Local\\Temp/ipykernel_14096/1376159436.py\"\u001b[1;36m, line \u001b[1;32m1\u001b[0m\n\u001b[1;33m    weather_df['temp'] = ( if weather_df['temp_num']>60:\u001b[0m\n\u001b[1;37m                           ^\u001b[0m\n\u001b[1;31mSyntaxError\u001b[0m\u001b[1;31m:\u001b[0m invalid syntax\n"
     ]
    }
   ],
   "source": [
    "weather_df['temp'] = ( if weather_df['temp_num']>60: \n",
    "                         print(weather_df) \n",
    "                     else: pass  \n",
    "                   )\n",
    "weather_df\n",
    "\n",
    "#podełsac !!\n"
   ]
  },
  {
   "cell_type": "code",
   "execution_count": null,
   "id": "2e63e50e",
   "metadata": {},
   "outputs": [],
   "source": []
  }
 ],
 "metadata": {
  "kernelspec": {
   "display_name": "Python 3 (ipykernel)",
   "language": "python",
   "name": "python3"
  },
  "language_info": {
   "codemirror_mode": {
    "name": "ipython",
    "version": 3
   },
   "file_extension": ".py",
   "mimetype": "text/x-python",
   "name": "python",
   "nbconvert_exporter": "python",
   "pygments_lexer": "ipython3",
   "version": "3.9.7"
  }
 },
 "nbformat": 4,
 "nbformat_minor": 5
}
