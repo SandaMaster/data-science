{
 "cells": [
  {
   "cell_type": "code",
   "execution_count": null,
   "id": "933b033b",
   "metadata": {},
   "outputs": [],
   "source": [
    "while True:\n",
    "\n",
    "    try:\n",
    "        a = int(input('podaj x1:'))\n",
    "        b = int(input('podja x2:'))\n",
    "        print(a+b)\n",
    "        \n",
    "    except ValueError:\n",
    "        print(\"Blad, podaj wartosci ponownie\")\n",
    "\n"
   ]
  }
 ],
 "metadata": {
  "kernelspec": {
   "display_name": "Python 3",
   "language": "python",
   "name": "python3"
  },
  "language_info": {
   "codemirror_mode": {
    "name": "ipython",
    "version": 3
   },
   "file_extension": ".py",
   "mimetype": "text/x-python",
   "name": "python",
   "nbconvert_exporter": "python",
   "pygments_lexer": "ipython3",
   "version": "3.8.8"
  }
 },
 "nbformat": 4,
 "nbformat_minor": 5
}
