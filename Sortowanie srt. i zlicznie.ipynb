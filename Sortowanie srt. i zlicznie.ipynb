{
 "cells": [
  {
   "cell_type": "code",
   "execution_count": 5,
   "id": "bb3beb9a",
   "metadata": {},
   "outputs": [
    {
     "ename": "SyntaxError",
     "evalue": "invalid syntax (<ipython-input-5-9936cf3fbc0b>, line 2)",
     "output_type": "error",
     "traceback": [
      "\u001b[1;36m  File \u001b[1;32m\"<ipython-input-5-9936cf3fbc0b>\"\u001b[1;36m, line \u001b[1;32m2\u001b[0m\n\u001b[1;33m    Utwórz listę zawierającą imiona wszystkich kursantów\u001b[0m\n\u001b[1;37m           ^\u001b[0m\n\u001b[1;31mSyntaxError\u001b[0m\u001b[1;31m:\u001b[0m invalid syntax\n"
     ]
    }
   ],
   "source": [
    "Zadanie\n",
    "Utwórz listę zawierającą imiona wszystkich kursantów\n",
    "Następnie ją posortuj alfabetycznie, oraz\n",
    "Policz ile z osób na liście jest kobietami\n",
    "W tym celu możesz sprawdzić czy imię kończy się na „a”"
   ]
  },
  {
   "cell_type": "code",
   "execution_count": 33,
   "id": "007ca82b",
   "metadata": {},
   "outputs": [
    {
     "name": "stdout",
     "output_type": "stream",
     "text": [
      "female Ala\n",
      "female Anna\n",
      "male Bartek\n",
      "male Brajan\n",
      "female Dżesika\n",
      "male Jan\n",
      "6\n"
     ]
    }
   ],
   "source": [
    "L=['Brajan','Dżesika','Jan','Ala','Anna','Bartek']\n",
    "L.sort()\n",
    "L\n",
    "\n",
    "a=0\n",
    "\n",
    "for i in L :\n",
    "    a+=1\n",
    "    if i[-1]=='a':\n",
    "        print('female',i)\n",
    "        \n",
    "    else:print('male',i)\n",
    "print(a)   "
   ]
  },
  {
   "cell_type": "code",
   "execution_count": 19,
   "id": "0f68092e",
   "metadata": {},
   "outputs": [],
   "source": [
    "L=['Brajan','Dżesika','Jan','Ala','Anna']\n",
    "\n"
   ]
  },
  {
   "cell_type": "code",
   "execution_count": 27,
   "id": "0e9cf982",
   "metadata": {},
   "outputs": [
    {
     "data": {
      "text/plain": [
       "'s'"
      ]
     },
     "execution_count": 27,
     "metadata": {},
     "output_type": "execute_result"
    }
   ],
   "source": [
    "    \n"
   ]
  }
 ],
 "metadata": {
  "kernelspec": {
   "display_name": "Python 3",
   "language": "python",
   "name": "python3"
  },
  "language_info": {
   "codemirror_mode": {
    "name": "ipython",
    "version": 3
   },
   "file_extension": ".py",
   "mimetype": "text/x-python",
   "name": "python",
   "nbconvert_exporter": "python",
   "pygments_lexer": "ipython3",
   "version": "3.8.8"
  }
 },
 "nbformat": 4,
 "nbformat_minor": 5
}
