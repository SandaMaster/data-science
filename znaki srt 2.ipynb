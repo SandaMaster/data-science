{
 "cells": [
  {
   "cell_type": "code",
   "execution_count": 5,
   "id": "ec2187fa",
   "metadata": {},
   "outputs": [
    {
     "data": {
      "text/plain": [
       "('M', 'D')"
      ]
     },
     "execution_count": 5,
     "metadata": {},
     "output_type": "execute_result"
    }
   ],
   "source": [
    "s1 = 'Maciek'\n",
    "\n",
    "s2 = 'Darek'\n",
    "\n",
    "p = s1[:1],s2[:1]\n",
    "k = s1[-1:],s2[-1:]\n",
    "w1 = int(len(s1)/2)\n",
    "w2 = int(len(s2)/2)\n",
    "\n",
    "#s1[w1:w1+1] \n",
    "#s1[w1-1:w1] \n",
    "\n",
    "\n",
    "\n",
    "#if (w1 and w2)%2  != 0:\n",
    "    #print(p,s1[w1-1:w1],s2[w2-1:w2],k)\n",
    "    \n",
    "#else:print(p,s1[w1:w1+1],s2[w2:w2+1],k) \n",
    "\n",
    "\n",
    "\n",
    "p\n",
    "\n",
    "\n"
   ]
  },
  {
   "cell_type": "code",
   "execution_count": null,
   "id": "c311b30c",
   "metadata": {},
   "outputs": [],
   "source": []
  },
  {
   "cell_type": "raw",
   "id": "816c430a",
   "metadata": {},
   "source": []
  }
 ],
 "metadata": {
  "kernelspec": {
   "display_name": "Python 3",
   "language": "python",
   "name": "python3"
  },
  "language_info": {
   "codemirror_mode": {
    "name": "ipython",
    "version": 3
   },
   "file_extension": ".py",
   "mimetype": "text/x-python",
   "name": "python",
   "nbconvert_exporter": "python",
   "pygments_lexer": "ipython3",
   "version": "3.8.8"
  }
 },
 "nbformat": 4,
 "nbformat_minor": 5
}
