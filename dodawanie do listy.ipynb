{
 "cells": [
  {
   "cell_type": "code",
   "execution_count": 4,
   "id": "03455179",
   "metadata": {},
   "outputs": [],
   "source": [
    "lista = [1,2,3,4,'dupa','cyc']\n",
    "if 'new' not in lista: \n",
    "    lista.append('bartek')"
   ]
  },
  {
   "cell_type": "code",
   "execution_count": 5,
   "id": "0f7832a6",
   "metadata": {},
   "outputs": [
    {
     "data": {
      "text/plain": [
       "[1, 2, 3, 4, 'dupa', 'bartek']"
      ]
     },
     "execution_count": 5,
     "metadata": {},
     "output_type": "execute_result"
    }
   ],
   "source": [
    "lista"
   ]
  },
  {
   "cell_type": "code",
   "execution_count": 10,
   "id": "3c5dbb4e",
   "metadata": {},
   "outputs": [],
   "source": [
    "if 'dupa'in lista:\n",
    "    lista.append('cyc2')\n"
   ]
  },
  {
   "cell_type": "code",
   "execution_count": 11,
   "id": "93553d9e",
   "metadata": {},
   "outputs": [
    {
     "data": {
      "text/plain": [
       "[1, 2, 3, 4, 'dupa', 'bartek', 'cyc2', 'cyc2']"
      ]
     },
     "execution_count": 11,
     "metadata": {},
     "output_type": "execute_result"
    }
   ],
   "source": [
    "lista\n"
   ]
  }
 ],
 "metadata": {
  "kernelspec": {
   "display_name": "Python 3",
   "language": "python",
   "name": "python3"
  },
  "language_info": {
   "codemirror_mode": {
    "name": "ipython",
    "version": 3
   },
   "file_extension": ".py",
   "mimetype": "text/x-python",
   "name": "python",
   "nbconvert_exporter": "python",
   "pygments_lexer": "ipython3",
   "version": "3.8.8"
  }
 },
 "nbformat": 4,
 "nbformat_minor": 5
}
