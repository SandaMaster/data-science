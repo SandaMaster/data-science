{
 "cells": [
  {
   "cell_type": "code",
   "execution_count": 3,
   "id": "7770bd4e",
   "metadata": {},
   "outputs": [
    {
     "data": {
      "text/plain": [
       "5"
      ]
     },
     "execution_count": 3,
     "metadata": {},
     "output_type": "execute_result"
    }
   ],
   "source": [
    "class myclass:\n",
    "    x = 5\n",
    "    \n",
    "p1 = myclass()\n",
    "p1.x\n",
    "\n"
   ]
  },
  {
   "cell_type": "code",
   "execution_count": 5,
   "id": "2afde804",
   "metadata": {},
   "outputs": [
    {
     "data": {
      "text/plain": [
       "5"
      ]
     },
     "execution_count": 5,
     "metadata": {},
     "output_type": "execute_result"
    }
   ],
   "source": [
    "class MyClass:\n",
    "    x = 5\n",
    "\n",
    "p1 = MyClass()\n",
    "p1.x"
   ]
  },
  {
   "cell_type": "code",
   "execution_count": 8,
   "id": "a2e82583",
   "metadata": {},
   "outputs": [],
   "source": [
    "class Vehicle:\n",
    "    pass\n"
   ]
  },
  {
   "cell_type": "code",
   "execution_count": 14,
   "id": "611f6275",
   "metadata": {},
   "outputs": [
    {
     "name": "stdout",
     "output_type": "stream",
     "text": [
      "F16\n"
     ]
    },
    {
     "data": {
      "text/plain": [
       "'F16'"
      ]
     },
     "execution_count": 14,
     "metadata": {},
     "output_type": "execute_result"
    }
   ],
   "source": [
    "class Jets:\n",
    "\n",
    "\n",
    "    def __init__(self, name, country):\n",
    "        self.name = name\n",
    "        self.origin = country\n",
    "\n",
    "\n",
    "\n",
    "first_item = Jets(\"F16\", \"USA\")\n",
    "\n",
    "\n",
    "a=first_item.name\n",
    "\n",
    "print(a)\n",
    "a"
   ]
  },
  {
   "cell_type": "code",
   "execution_count": 24,
   "id": "9470ec97",
   "metadata": {},
   "outputs": [
    {
     "data": {
      "text/plain": [
       "(240, 11)"
      ]
     },
     "execution_count": 24,
     "metadata": {},
     "output_type": "execute_result"
    }
   ],
   "source": [
    "\n",
    "\n",
    "class Vehicle:\n",
    "    \n",
    "    def __init__(self, max_speed, milage):\n",
    "        self.max_speed = max_speed\n",
    "        self.milage = milage\n",
    "        \n",
    "car = Vehicle(240,11)\n",
    "\n",
    "car.max_speed, car.milage"
   ]
  },
  {
   "cell_type": "code",
   "execution_count": 22,
   "id": "d26731af",
   "metadata": {},
   "outputs": [
    {
     "name": "stdout",
     "output_type": "stream",
     "text": [
      "Niebieski 200000\n",
      "Czerwony 500000\n"
     ]
    }
   ],
   "source": [
    "\n",
    "\n",
    "class Car:\n",
    "    \n",
    "    def __init__ (self, color, mileage):\n",
    "        self.color = color\n",
    "        self.mileage = int(mileage)\n",
    "        \n",
    "c1 = Car('Niebieski',200000)\n",
    "c2 = Car('Czerwony', 500000)\n",
    "\n",
    "print(c1.color, c1.mileage)\n",
    "print(c2.color, c2.mileage)\n",
    "\n"
   ]
  },
  {
   "cell_type": "code",
   "execution_count": null,
   "id": "a04dcaf1",
   "metadata": {},
   "outputs": [],
   "source": []
  }
 ],
 "metadata": {
  "kernelspec": {
   "display_name": "Python 3",
   "language": "python",
   "name": "python3"
  },
  "language_info": {
   "codemirror_mode": {
    "name": "ipython",
    "version": 3
   },
   "file_extension": ".py",
   "mimetype": "text/x-python",
   "name": "python",
   "nbconvert_exporter": "python",
   "pygments_lexer": "ipython3",
   "version": "3.8.8"
  }
 },
 "nbformat": 4,
 "nbformat_minor": 5
}
