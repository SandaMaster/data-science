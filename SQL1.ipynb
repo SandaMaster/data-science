{
 "cells": [
  {
   "cell_type": "raw",
   "id": "aac9af5d",
   "metadata": {},
   "source": [
    "/*SELECT * FROM customer WHERE name='' AND city='';\n",
    "\n",
    "SELECT id,name,price,amount,date FROM product WHERE price>25 AND amount>=5;\n",
    "\n",
    "SELECT * FROM customer WHERE name LIKE '%a%';\n",
    "\n",
    "SELECT id, name, price FROM Product WHERE name LIKE '';\n",
    "\n",
    "SELECT name,price FROM product WHERE price IN (60,10,25);\n",
    "\n",
    "SELECT name, price, amount FROM Product WHERE amount in(3,4,5,6);\n",
    "\n",
    "SELECT name,price FROM product WHERE price BETWEEN 40 AND 60;\n",
    "\n",
    "\n",
    "SELECT id, name FROM Customer LIMIT 3,2;\n",
    "\n",
    "\n",
    "SELECT COUNT(name) FROM product;\n",
    "\n",
    "SELECT sum(id) FROM Product;\n",
    "\n",
    "\n",
    "SELECT sum(price)FROM Product;\n",
    "\n",
    "SELECT avg(price)FROM Product; -- AVG srednia\n",
    "\n",
    "\n",
    "SELECT avg(amount) FROM Product WHERE price >40;\n",
    "\n",
    "\n",
    "SELECT id,MIN(price) FROM product; --- min minimala ilosc\n",
    "\n",
    "\n",
    "SELECT DISTINCT city FROM customer;\n",
    "\n",
    "SELECT count(DISTINCT city) FROM customer;\n",
    "\n",
    "\n",
    "SELECT id, name,  date FROM Customer WHERE strftime('%m',date)='02';\n",
    "\n",
    "\n",
    "SELECT name, price, date FROM Product WHERE strftime('%d', date) BETWEEN '01' AND '10';\n",
    "\n",
    "\n",
    "SELECT date('now');\n",
    "\n",
    "\n",
    "SELECT JULIANDAY(DATE('now'));\n",
    "\n",
    "\n",
    "SELECT JULIANDAY('2011-02-10')-JULIANDAY('2011-03-10');\n",
    "*/\n"
   ]
  },
  {
   "cell_type": "code",
   "execution_count": null,
   "id": "b908dfe7",
   "metadata": {},
   "outputs": [],
   "source": [
    "SELECT author_id,COUNT(title) FROM titles GROUP BY author_id;\n",
    "SELECT author_id,COUNT(title) FROM titles GROUP BY author_id HAVING COUNT(title)>5;\n",
    "\n",
    "SELECT city, count(city) FROM Customer GROUP BY city HAVING count(city)>1;\n"
   ]
  }
 ],
 "metadata": {
  "kernelspec": {
   "display_name": "Python 3",
   "language": "python",
   "name": "python3"
  },
  "language_info": {
   "codemirror_mode": {
    "name": "ipython",
    "version": 3
   },
   "file_extension": ".py",
   "mimetype": "text/x-python",
   "name": "python",
   "nbconvert_exporter": "python",
   "pygments_lexer": "ipython3",
   "version": "3.8.8"
  }
 },
 "nbformat": 4,
 "nbformat_minor": 5
}
